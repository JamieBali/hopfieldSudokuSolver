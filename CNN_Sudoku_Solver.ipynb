{
  "nbformat": 4,
  "nbformat_minor": 0,
  "metadata": {
    "colab": {
      "name": "CNN_Sudoku_Solver",
      "provenance": [],
      "collapsed_sections": [],
      "authorship_tag": "ABX9TyM/QYmDEBuCijjfIQLhbL+Q",
      "include_colab_link": true
    },
    "kernelspec": {
      "name": "python3",
      "display_name": "Python 3"
    },
    "language_info": {
      "name": "python"
    },
    "accelerator": "GPU"
  },
  "cells": [
    {
      "cell_type": "markdown",
      "metadata": {
        "id": "view-in-github",
        "colab_type": "text"
      },
      "source": [
        "<a href=\"https://colab.research.google.com/github/JamieBali/sudoku/blob/main/CNN_Sudoku_Solver.ipynb\" target=\"_parent\"><img src=\"https://colab.research.google.com/assets/colab-badge.svg\" alt=\"Open In Colab\"/></a>"
      ]
    },
    {
      "cell_type": "markdown",
      "source": [
        "# Imports"
      ],
      "metadata": {
        "id": "z72blvoTOGMp"
      }
    },
    {
      "cell_type": "code",
      "execution_count": null,
      "metadata": {
        "colab": {
          "base_uri": "https://localhost:8080/"
        },
        "id": "yCgF2tutN3ni",
        "outputId": "07af302a-1a66-4df8-f3a8-fcad9b8bccff"
      },
      "outputs": [
        {
          "output_type": "stream",
          "name": "stdout",
          "text": [
            "Mounted at /content/gdrive\n"
          ]
        }
      ],
      "source": [
        "import tensorflow as tf\n",
        "from tensorflow import keras\n",
        "\n",
        "import pandas as pd\n",
        "import numpy as np\n",
        "import os, time\n",
        "\n",
        "from google.colab import drive\n",
        "drive.mount('/content/gdrive')"
      ]
    },
    {
      "cell_type": "code",
      "source": [
        "tf.config.list_physical_devices()"
      ],
      "metadata": {
        "colab": {
          "base_uri": "https://localhost:8080/"
        },
        "id": "-pTfIjPFp268",
        "outputId": "853c4d36-de99-46c4-e450-abf87166615c"
      },
      "execution_count": null,
      "outputs": [
        {
          "output_type": "execute_result",
          "data": {
            "text/plain": [
              "[PhysicalDevice(name='/physical_device:CPU:0', device_type='CPU'),\n",
              " PhysicalDevice(name='/physical_device:GPU:0', device_type='GPU')]"
            ]
          },
          "metadata": {},
          "execution_count": 2
        }
      ]
    },
    {
      "cell_type": "markdown",
      "source": [
        "# Data"
      ],
      "metadata": {
        "id": "pizkD7yVRWet"
      }
    },
    {
      "cell_type": "code",
      "source": [
        "filepath = \"/content/gdrive/My Drive/ColabNotebooks/IP/sudoku.csv\"\n",
        "inp = pd.read_csv(filepath)\n",
        "\n",
        "puzzles = inp[\"quizzes\"]\n",
        "solutions = inp[\"solutions\"]"
      ],
      "metadata": {
        "id": "II_5YVMfRWH-"
      },
      "execution_count": null,
      "outputs": []
    },
    {
      "cell_type": "code",
      "source": [
        "trivial = [[8,9,1,2,7,0,5,6,3],[6,0,3,1,8,5,9,0,0],[4,5,7,6,3,9,0,0,2],[5,0,6,4,1,7,2,3,0],[7,0,2,9,0,3,8,1,6],[3,1,0,0,2,6,0,5,4],[9,3,8,5,4,0,6,7,0],[1,6,4,0,9,0,3,2,5],[0,7,5,3,6,1,4,9,8]]\n",
        "\n",
        "# this is a very simple 4x4 sudoku from sudoku.com\n",
        "four = [[0,3,4,0],[4,0,0,2],[1,0,0,3],[0,2,1,0]]\n",
        "\n",
        "# these three were taken randomly from sudoku.com\n",
        "easy = [[0,0,0,0,7,9,0,3,0],[5,0,2,0,6,1,4,7,8],[3,7,6,0,8,5,9,0,2],[0,1,7,5,0,0,8,0,0],[2,0,9,8,3,0,0,0,0],[0,0,0,0,2,0,0,4,0],[0,0,0,0,5,0,2,0,1],[0,2,3,0,0,0,0,5,4],[1,0,0,7,0,0,0,0,0]]\n",
        "medium = [[0,3,1,0,5,0,0,2,0],[0,0,0,0,0,2,9,0,5],[2,0,0,0,1,0,0,0,0],[3,5,0,0,9,0,0,7,0],[7,0,0,5,0,0,0,4,0],[0,1,0,7,0,3,2,0,0],[1,2,6,3,0,0,0,0,0],[0,9,0,8,0,5,0,0,0],[5,0,0,0,2,0,7,0,0]]\n",
        "hard = [[0,4,0,0,0,5,0,6,0],[0,0,5,4,2,0,0,0,0],[0,0,1,6,0,3,5,0,4],[0,0,0,0,0,0,7,0,0],[0,3,7,0,0,0,0,1,0],[9,0,0,0,0,4,3,5,0],[0,0,4,2,5,0,0,0,0],[0,0,0,0,0,0,0,7,6],[6,0,9,0,7,0,0,0,5]]\n",
        "\n",
        "# this is the solved version of the \"easy\" sudoku above.\n",
        "solved = [[8,4,1,2,7,9,6,3,5],[5,9,2,3,6,1,4,7,8],[3,7,6,4,8,5,9,1,2],[4,1,7,5,9,6,8,2,3],[2,5,9,8,3,4,1,6,7],[6,3,8,1,2,7,5,4,9],[7,6,4,9,5,3,2,8,1],[9,2,3,6,1,8,7,5,4],[1,8,5,7,4,2,3,9,6]]"
      ],
      "metadata": {
        "id": "h6XoCgx1WEnq"
      },
      "execution_count": null,
      "outputs": []
    },
    {
      "cell_type": "markdown",
      "source": [
        "# Model Creation and Training"
      ],
      "metadata": {
        "id": "CdUUOf3QRZYl"
      }
    },
    {
      "cell_type": "code",
      "source": [
        "from keras.layers import Activation\n",
        "from keras.layers import Conv2D, BatchNormalization, Dense, Flatten, Reshape\n",
        "from sklearn.model_selection import train_test_split\n",
        "\n",
        "class sudokuSolver():\n",
        "\n",
        "  model = None\n",
        "\n",
        "  def __init__(self, pre_trained = 0):\n",
        "    if pre_trained == 1:\n",
        "      self.model = keras.models.load_model(\"/content/gdrive/My Drive/ColabNotebooks/IP/model.keras\")\n",
        "    else:\n",
        "      self.model = keras.models.Sequential()                            # create sequential model\n",
        "\n",
        "      self.model.add(Conv2D(64, kernel_size=(3,3), activation='relu', padding='same', input_shape=(9,9,1))) # these layers come from a towards data science article\n",
        "      self.model.add(BatchNormalization())                                                                  # see our paper for the reference.\n",
        "      self.model.add(Conv2D(64, kernel_size=(3,3), activation='relu', padding='same'))\n",
        "      self.model.add(BatchNormalization())\n",
        "      self.model.add(Conv2D(128, kernel_size=(1,1), activation='relu', padding='same'))\n",
        "\n",
        "      self.model.add(Flatten())\n",
        "      self.model.add(Dense(81*9))               # convert to probabilities\n",
        "      self.model.add(Reshape((-1, 9)))          # shape so each val has 9 probabilities\n",
        "      self.model.add(Activation('softmax'))     # and find the highest probability\n",
        "\n",
        "      self.model.compile(loss='sparse_categorical_crossentropy', optimizer='adam')\n",
        "  \n",
        "  def format_puzzle(self, puzzle, from_dataset = False):\n",
        "    if from_dataset:                                # dataset puzzles are formatted differently to ones we have written in manually\n",
        "      formatted_puzzle = []\n",
        "      for x in puzzle:\n",
        "        formatted_puzzle.append(int(x))\n",
        "      return self.normalise(np.array(formatted_puzzle)).reshape((9,9,1))\n",
        "    else:\n",
        "      formatted_puzzle = []\n",
        "      for x in range(9):\n",
        "        row = []\n",
        "        for y in puzzle[x]:\n",
        "          row.append(int(y))\n",
        "        formatted_puzzle.append(row)\n",
        "      formatted_puzzle = np.array(formatted_puzzle)\n",
        "      return self.normalise(formatted_puzzle).reshape((1,9,9,1))\n",
        "\n",
        "  def normalise(self, val):       # we want to our data to be zero centred when it goes into the network\n",
        "    return (val/9) - 0.5\n",
        "\n",
        "  def save_model(self, name):             # this allows us to save our mdeol so we don't have to repeatedly re-train it\n",
        "    self.model.save(\"/content/gdrive/My Drive/ColabNotebooks/IP/\" + name)\n",
        "\n",
        "  def train(self, tr_puzzles, tr_solutions, split = 0.2): # format our puzzles, split the data, and then train the model\n",
        "    train_puzzles = []\n",
        "    train_solutions = []\n",
        "    for x in tr_puzzles:\n",
        "      train_puzzles.append(self.format_puzzle(x, True))         # format the puzzles and solutions\n",
        "    for x in tr_solutions:\n",
        "      train_solutions.append(np.array([int(t) for t in x]).reshape((81,1))-1)\n",
        "\n",
        "    train_puzzles = np.array(train_puzzles)                     # convert to np array\n",
        "    train_solutions = np.array(train_solutions)\n",
        "\n",
        "    train_puzzles, test_puzzles, train_solutions, test_solutions = train_test_split(tr_puzzles, tr_solutions, test_size=split) # split the data\n",
        "\n",
        "    print(\"Training with \" + str(len(train_puzzles)) + \" puzzles.\")\n",
        "\n",
        "    self.model.fit(train_puzzles, train_solutions, batch_size = 64, epochs=5, verbose=1) # inbuilt training function. \n",
        "\n",
        "  def get_model(self):  # returns a copy of the model\n",
        "    return self.model\n",
        "\n",
        "  def solve(self, puzzle):                      \n",
        "    solution = np.copy(puzzle).reshape((9,9))           # create a copy of the output state\n",
        "    while True:                                                   \n",
        "      formatted_puzzle = self.format_puzzle(solution)   # format the current output state\n",
        "\n",
        "      output = self.model.predict(formatted_puzzle).squeeze() # predict output\n",
        "\n",
        "      predictions = np.argmax(output, axis = 1).reshape((9,9)) + 1                # find the highest probability output for each tile\n",
        "      probabilities = np.around(np.max(output, axis=1).reshape((9,9)), 2)     \n",
        "\n",
        "      mask = np.array(solution == 0)  # create a mask, so that we don't update givens\n",
        "      if mask.sum() == 0:\n",
        "        break\n",
        "\n",
        "      probabilities *= mask         # multiply probabilities by the mask, removing the probability of givens\n",
        "\n",
        "      index_of_highest = np.argmax(probabilities)               # and update the board state to contain the value with the highest probability\n",
        "      x, y = (index_of_highest // 9), (index_of_highest % 9)\n",
        "\n",
        "      solution[x][y] = predictions[x][y]\n",
        "\n",
        "    return solution         # repeat until solution is found"
      ],
      "metadata": {
        "id": "L4x3AWuskt42"
      },
      "execution_count": null,
      "outputs": []
    },
    {
      "cell_type": "markdown",
      "source": [
        "# Training the Solver"
      ],
      "metadata": {
        "id": "jOjf9pacn64L"
      }
    },
    {
      "cell_type": "code",
      "source": [
        "model = sudokuSolver()\n",
        "model.train(puzzles[:100], solutions[:100], 0.99)\n"
      ],
      "metadata": {
        "colab": {
          "base_uri": "https://localhost:8080/"
        },
        "id": "Eee4rV-on8dD",
        "outputId": "f9c211d8-8e8a-4a35-a635-b4f91a44d828"
      },
      "execution_count": null,
      "outputs": [
        {
          "output_type": "stream",
          "name": "stdout",
          "text": [
            "Epoch 1/10\n",
            "7813/7813 [==============================] - 85s 11ms/step - loss: 0.5390\n",
            "Epoch 2/10\n",
            "7813/7813 [==============================] - 84s 11ms/step - loss: 0.3700\n",
            "Epoch 3/10\n",
            "7813/7813 [==============================] - 85s 11ms/step - loss: 0.3522\n",
            "Epoch 4/10\n",
            "7813/7813 [==============================] - 84s 11ms/step - loss: 0.3376\n",
            "Epoch 5/10\n",
            "7813/7813 [==============================] - 84s 11ms/step - loss: 0.3271\n",
            "Epoch 6/10\n",
            "7813/7813 [==============================] - 84s 11ms/step - loss: 0.3195\n",
            "Epoch 7/10\n",
            "7813/7813 [==============================] - 84s 11ms/step - loss: 0.3139\n",
            "Epoch 8/10\n",
            "7813/7813 [==============================] - 84s 11ms/step - loss: 0.3096\n",
            "Epoch 9/10\n",
            "7813/7813 [==============================] - 84s 11ms/step - loss: 0.3061\n",
            "Epoch 10/10\n",
            "7813/7813 [==============================] - 84s 11ms/step - loss: 0.3032\n"
          ]
        }
      ]
    },
    {
      "cell_type": "code",
      "source": [
        "model.solve(hard)"
      ],
      "metadata": {
        "colab": {
          "base_uri": "https://localhost:8080/"
        },
        "id": "1_axdfC4Vc-I",
        "outputId": "fb501c03-f9c6-4d26-bb21-2fa1e45c4906"
      },
      "execution_count": null,
      "outputs": [
        {
          "output_type": "execute_result",
          "data": {
            "text/plain": [
              "array([[7, 4, 2, 8, 1, 5, 9, 6, 3],\n",
              "       [3, 6, 5, 4, 2, 7, 1, 8, 7],\n",
              "       [8, 9, 1, 6, 9, 3, 5, 2, 4],\n",
              "       [5, 2, 8, 1, 3, 9, 7, 4, 2],\n",
              "       [4, 3, 7, 5, 6, 2, 9, 1, 8],\n",
              "       [9, 1, 6, 7, 8, 4, 3, 5, 2],\n",
              "       [1, 7, 4, 2, 5, 6, 8, 3, 9],\n",
              "       [2, 5, 3, 9, 8, 8, 4, 7, 6],\n",
              "       [6, 8, 9, 3, 7, 1, 2, 9, 5]])"
            ]
          },
          "metadata": {},
          "execution_count": 67
        }
      ]
    },
    {
      "cell_type": "markdown",
      "source": [
        "# Solver"
      ],
      "metadata": {
        "id": "70RGNxQDRcod"
      }
    },
    {
      "cell_type": "code",
      "source": [
        "game = medium\n",
        "with tf.device(\"/device:GPU:0\"):\n",
        "  model = sudokuSolver(6)\n",
        "  print(model.solve(game))"
      ],
      "metadata": {
        "colab": {
          "base_uri": "https://localhost:8080/"
        },
        "id": "EqPa5hyymjcI",
        "outputId": "0152d4dd-7bef-496d-cb2d-d18b9351ed47"
      },
      "execution_count": null,
      "outputs": [
        {
          "output_type": "stream",
          "name": "stdout",
          "text": [
            "[[9 3 1 6 5 8 4 2 7]\n",
            " [6 7 8 4 3 2 9 1 5]\n",
            " [2 4 5 9 1 7 6 8 3]\n",
            " [3 5 4 2 9 6 8 7 1]\n",
            " [7 6 2 5 8 1 3 4 9]\n",
            " [8 1 9 7 4 3 2 5 6]\n",
            " [1 2 6 3 7 4 5 9 8]\n",
            " [4 9 7 8 6 5 1 3 2]\n",
            " [5 8 3 1 2 9 7 6 4]]\n"
          ]
        }
      ]
    }
  ]
}