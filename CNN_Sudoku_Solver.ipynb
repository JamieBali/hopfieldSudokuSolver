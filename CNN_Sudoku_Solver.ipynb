{
  "nbformat": 4,
  "nbformat_minor": 0,
  "metadata": {
    "colab": {
      "name": "CNN_Sudoku_Solver",
      "provenance": [],
      "collapsed_sections": [],
      "authorship_tag": "ABX9TyPMlxC1JHKaaXuJ96XtFcsA",
      "include_colab_link": true
    },
    "kernelspec": {
      "name": "python3",
      "display_name": "Python 3"
    },
    "language_info": {
      "name": "python"
    }
  },
  "cells": [
    {
      "cell_type": "markdown",
      "metadata": {
        "id": "view-in-github",
        "colab_type": "text"
      },
      "source": [
        "<a href=\"https://colab.research.google.com/github/JamieBali/sudoku/blob/main/CNN_Sudoku_Solver.ipynb\" target=\"_parent\"><img src=\"https://colab.research.google.com/assets/colab-badge.svg\" alt=\"Open In Colab\"/></a>"
      ]
    },
    {
      "cell_type": "markdown",
      "source": [
        "# Imports"
      ],
      "metadata": {
        "id": "z72blvoTOGMp"
      }
    },
    {
      "cell_type": "code",
      "execution_count": 10,
      "metadata": {
        "colab": {
          "base_uri": "https://localhost:8080/"
        },
        "id": "yCgF2tutN3ni",
        "outputId": "70333b32-5d88-4ac6-f3fa-cc482e1c6f78"
      },
      "outputs": [
        {
          "output_type": "stream",
          "name": "stdout",
          "text": [
            "Drive already mounted at /content/gdrive; to attempt to forcibly remount, call drive.mount(\"/content/gdrive\", force_remount=True).\n"
          ]
        }
      ],
      "source": [
        "import tensorflow as tf\n",
        "from tensorflow import keras\n",
        "import pandas as pd\n",
        "import numpy as np\n",
        "import os\n",
        "\n",
        "from google.colab import drive\n",
        "drive.mount('/content/gdrive')"
      ]
    },
    {
      "cell_type": "markdown",
      "source": [
        "# Data"
      ],
      "metadata": {
        "id": "pizkD7yVRWet"
      }
    },
    {
      "cell_type": "code",
      "source": [
        "filepath = \"/content/gdrive/My Drive/ColabNotebooks/IP/sudoku.csv\"\n",
        "inp = pd.read_csv(filepath)\n",
        "\n",
        "puzzles = inp[\"quizzes\"][:50000]\n",
        "solutions = inp[\"solutions\"][:50000]\n",
        "test_puzzles = inp[\"quizzes\"][-10000:]\n",
        "test_solutions = inp[\"solutions\"][-10000:]\n",
        "\n",
        "puzzles[12]"
      ],
      "metadata": {
        "colab": {
          "base_uri": "https://localhost:8080/",
          "height": 35
        },
        "id": "II_5YVMfRWH-",
        "outputId": "957e3f06-a6ed-487a-aceb-b0692e6395f1"
      },
      "execution_count": 11,
      "outputs": [
        {
          "output_type": "execute_result",
          "data": {
            "text/plain": [
              "'004300000890200670700900050500008140070032060600001308001750900005040012980006005'"
            ],
            "application/vnd.google.colaboratory.intrinsic+json": {
              "type": "string"
            }
          },
          "metadata": {},
          "execution_count": 11
        }
      ]
    },
    {
      "cell_type": "code",
      "source": [
        "trivial = [[8,9,1,2,7,0,5,6,3],[6,0,3,1,8,5,9,0,0],[4,5,7,6,3,9,0,0,2],[5,0,6,4,1,7,2,3,0],[7,0,2,9,0,3,8,1,6],[3,1,0,0,2,6,0,5,4],[9,3,8,5,4,0,6,7,0],[1,6,4,0,9,0,3,2,5],[0,7,5,3,6,1,4,9,8]]\n",
        "\n",
        "# this is a very simple 4x4 sudoku from sudoku.com\n",
        "four = [[0,3,4,0],[4,0,0,2],[1,0,0,3],[0,2,1,0]]\n",
        "\n",
        "# these three were taken randomly from sudoku.com\n",
        "easy = [[0,0,0,0,7,9,0,3,0],[5,0,2,0,6,1,4,7,8],[3,7,6,0,8,5,9,0,2],[0,1,7,5,0,0,8,0,0],[2,0,9,8,3,0,0,0,0],[0,0,0,0,2,0,0,4,0],[0,0,0,0,5,0,2,0,1],[0,2,3,0,0,0,0,5,4],[1,0,0,7,0,0,0,0,0]]\n",
        "medium = [[0,3,1,0,5,0,0,2,0],[0,0,0,0,0,2,9,0,5],[2,0,0,0,1,0,0,0,0],[3,5,0,0,9,0,0,7,0],[7,0,0,5,0,0,0,4,0],[0,1,0,7,0,3,2,0,0],[1,2,6,3,0,0,0,0,0],[0,9,0,8,0,5,0,0,0],[5,0,0,0,2,0,7,0,0]]\n",
        "hard = [[0,4,0,0,0,5,0,6,0],[0,0,5,4,2,0,0,0,0],[0,0,1,6,0,3,5,0,4],[0,0,0,0,0,0,7,0,0],[0,3,7,0,0,0,0,1,0],[9,0,0,0,0,4,3,5,0],[0,0,4,2,5,0,0,0,0],[0,0,0,0,0,0,0,7,6],[6,0,9,0,7,0,0,0,5]]\n",
        "\n",
        "# this is the solved version of the \"easy\" sudoku above.\n",
        "solved = [[8,4,1,2,7,9,6,3,5],[5,9,2,3,6,1,4,7,8],[3,7,6,4,8,5,9,1,2],[4,1,7,5,9,6,8,2,3],[2,5,9,8,3,4,1,6,7],[6,3,8,1,2,7,5,4,9],[7,6,4,9,5,3,2,8,1],[9,2,3,6,1,8,7,5,4],[1,8,5,7,4,2,3,9,6]]"
      ],
      "metadata": {
        "id": "h6XoCgx1WEnq"
      },
      "execution_count": 12,
      "outputs": []
    },
    {
      "cell_type": "markdown",
      "source": [
        "# Model Creation and Training"
      ],
      "metadata": {
        "id": "CdUUOf3QRZYl"
      }
    },
    {
      "cell_type": "code",
      "source": [
        "from sklearn import model_selection\n",
        "from keras.layers import Activation\n",
        "from keras.layers import Conv2D, BatchNormalization, Dense, Flatten, Reshape\n",
        "\n",
        "class sudokuSolver():\n",
        "\n",
        "  def __init__(self, pre_trained = False):\n",
        "    if pre_trained:\n",
        "      self.model = keras.models.load_model(\"/content/gdrive/My Drive/ColabNotebooks/IP/sudoku.model\")\n",
        "    else:\n",
        "      self.model = keras.models.Sequential()\n",
        "\n",
        "      self.model.add(Conv2D(64, kernel_size=(3,3), activation='relu', padding='same', input_shape=(9,9,1)))\n",
        "      self.model.add(BatchNormalization())\n",
        "      self.model.add(Conv2D(64, kernel_size=(3,3), activation='relu', padding='same'))\n",
        "      self.model.add(BatchNormalization())\n",
        "      self.model.add(Conv2D(128, kernel_size=(1,1), activation='relu', padding='same'))\n",
        "\n",
        "      self.model.add(Flatten())\n",
        "      self.model.add(Dense(81*9))\n",
        "      self.model.add(Reshape((-1, 9)))\n",
        "      self.model.add(Activation('softmax'))\n",
        "\n",
        "      adam = keras.optimizers.Adam(lr=.001)\n",
        "\n",
        "      self.model.compile(loss='sparse_categorical_crossentropy', optimizer=adam)\n",
        "  \n",
        "  def format_puzzle(self, puzzle):\n",
        "    formatted_puzzle = []\n",
        "    for x in range(8):\n",
        "      formatted_puzzle.append(puzzle[x*9:(x+1)*9])\n",
        "    return formatted_puzzle\n",
        "\n",
        "  def normalise(self, val):\n",
        "    return (val/9) - 0.5\n",
        "\n",
        "  def denormalise(self, val):\n",
        "    return (val+0.5) * 9\n",
        "\n",
        "  def save_model(self):\n",
        "    self.model.save(\"/content/gdrive/My Drive/ColabNotebooks/IP/\")\n",
        "\n",
        "  def train(self, tr_puzzles, tr_solutions):\n",
        "    puzzles = []\n",
        "    solutions = []\n",
        "\n",
        "    for x in range(len(tr_puzzles)):\n",
        "      puzzles.append(np.array([int(t) for t in tr_puzzles[x]]).reshape((9,9,1)))\n",
        "      solutions.append(np.array([int(t) for t in tr_solutions[x]]).reshape((9,9,1)))\n",
        "      puzzles[x] = self.normalise(puzzles[x])\n",
        "      solutions[x] = self.normalise(solutions[x])\n",
        "\n",
        "    print(\"Training Starting\")\n",
        "\n",
        "    self.model.fit(puzzles, solutions, batch_size = 32, epochs=2, verbose=1)\n",
        "\n",
        "  def get_model(self):\n",
        "    return self.model\n",
        "\n",
        "  def solve(self, puzzle):\n",
        "    solution = np.copy(puzzle).reshape((9,9))\n",
        "    while True:\n",
        "      formatted_puzzle = self.normalise(np.copy(solution).reshape((1,9,9,1)))\n",
        "\n",
        "      output = self.model.predict(formatted_puzzle).squeeze()\n",
        "\n",
        "      predictions = np.argmax(output, axis = 1).reshape((9,9)) + 1\n",
        "      probabilities = np.around(np.max(output, axis=1).reshape((9,9)), 2)\n",
        "\n",
        "      mask = np.array(solution == 0)\n",
        "      if mask.sum() == 0:\n",
        "        break\n",
        "\n",
        "      probabilities *= mask\n",
        "\n",
        "      index_of_highest = np.argmax(probabilities)\n",
        "      x, y = (index_of_highest // 9), (index_of_highest % 9)\n",
        "\n",
        "      solution[x][y] = predictions[x][y]\n",
        "\n",
        "    return solution"
      ],
      "metadata": {
        "id": "L4x3AWuskt42"
      },
      "execution_count": 13,
      "outputs": []
    },
    {
      "cell_type": "markdown",
      "source": [
        "# Solver"
      ],
      "metadata": {
        "id": "70RGNxQDRcod"
      }
    },
    {
      "cell_type": "code",
      "source": [
        "game = hard\n",
        "with tf.device(\"/device:GPU:0\"):\n",
        "  model = sudokuSolver(True)\n",
        "  print(model.solve(game))\n"
      ],
      "metadata": {
        "colab": {
          "base_uri": "https://localhost:8080/"
        },
        "id": "EqPa5hyymjcI",
        "outputId": "867e256e-ab5f-4fbb-b0ff-235ff9d5eedf"
      },
      "execution_count": 16,
      "outputs": [
        {
          "output_type": "stream",
          "name": "stdout",
          "text": [
            "[[2 4 3 9 1 5 8 6 7]\n",
            " [8 6 5 4 2 7 1 9 3]\n",
            " [7 9 1 6 8 3 5 2 4]\n",
            " [5 2 6 1 3 8 7 4 9]\n",
            " [4 3 7 5 9 2 6 1 8]\n",
            " [9 1 8 7 6 4 3 5 2]\n",
            " [3 7 4 2 5 6 9 8 1]\n",
            " [1 5 2 8 4 9 2 7 6]\n",
            " [6 8 9 3 7 1 4 3 5]]\n"
          ]
        }
      ]
    }
  ]
}