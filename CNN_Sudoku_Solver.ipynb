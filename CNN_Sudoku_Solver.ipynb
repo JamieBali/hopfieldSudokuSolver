{
  "nbformat": 4,
  "nbformat_minor": 0,
  "metadata": {
    "colab": {
      "name": "CNN_Sudoku_Solver",
      "provenance": [],
      "collapsed_sections": [],
      "authorship_tag": "ABX9TyM7kit9o2u4qppL7pfEP4Hn",
      "include_colab_link": true
    },
    "kernelspec": {
      "name": "python3",
      "display_name": "Python 3"
    },
    "language_info": {
      "name": "python"
    }
  },
  "cells": [
    {
      "cell_type": "markdown",
      "metadata": {
        "id": "view-in-github",
        "colab_type": "text"
      },
      "source": [
        "<a href=\"https://colab.research.google.com/github/JamieBali/sudoku/blob/main/CNN_Sudoku_Solver.ipynb\" target=\"_parent\"><img src=\"https://colab.research.google.com/assets/colab-badge.svg\" alt=\"Open In Colab\"/></a>"
      ]
    },
    {
      "cell_type": "markdown",
      "source": [
        "# Imports"
      ],
      "metadata": {
        "id": "z72blvoTOGMp"
      }
    },
    {
      "cell_type": "code",
      "execution_count": null,
      "metadata": {
        "colab": {
          "base_uri": "https://localhost:8080/"
        },
        "id": "yCgF2tutN3ni",
        "outputId": "64933b2b-4a6d-4c3f-f973-fc44afc91232"
      },
      "outputs": [
        {
          "output_type": "stream",
          "name": "stdout",
          "text": [
            "Drive already mounted at /content/gdrive; to attempt to forcibly remount, call drive.mount(\"/content/gdrive\", force_remount=True).\n"
          ]
        }
      ],
      "source": [
        "import tensorflow as tf\n",
        "from tensorflow import keras\n",
        "\n",
        "import pandas as pd\n",
        "import numpy as np\n",
        "import os, time\n",
        "\n",
        "from google.colab import drive\n",
        "drive.mount('/content/gdrive')"
      ]
    },
    {
      "cell_type": "code",
      "source": [
        "tf.config.list_physical_devices()"
      ],
      "metadata": {
        "colab": {
          "base_uri": "https://localhost:8080/"
        },
        "id": "-pTfIjPFp268",
        "outputId": "c8f21596-5e5b-4dec-efb1-d8cd1f7c0ec1"
      },
      "execution_count": null,
      "outputs": [
        {
          "output_type": "execute_result",
          "data": {
            "text/plain": [
              "[PhysicalDevice(name='/physical_device:CPU:0', device_type='CPU')]"
            ]
          },
          "metadata": {},
          "execution_count": 2
        }
      ]
    },
    {
      "cell_type": "markdown",
      "source": [
        "# Data"
      ],
      "metadata": {
        "id": "pizkD7yVRWet"
      }
    },
    {
      "cell_type": "code",
      "source": [
        "filepath = \"/content/gdrive/My Drive/ColabNotebooks/IP/sudoku.csv\"\n",
        "inp = pd.read_csv(filepath)\n",
        "\n",
        "puzzles = inp[\"quizzes\"]\n",
        "solutions = inp[\"solutions\"]"
      ],
      "metadata": {
        "id": "II_5YVMfRWH-"
      },
      "execution_count": null,
      "outputs": []
    },
    {
      "cell_type": "code",
      "source": [
        "trivial = [[8,9,1,2,7,0,5,6,3],[6,0,3,1,8,5,9,0,0],[4,5,7,6,3,9,0,0,2],[5,0,6,4,1,7,2,3,0],[7,0,2,9,0,3,8,1,6],[3,1,0,0,2,6,0,5,4],[9,3,8,5,4,0,6,7,0],[1,6,4,0,9,0,3,2,5],[0,7,5,3,6,1,4,9,8]]\n",
        "\n",
        "# this is a very simple 4x4 sudoku from sudoku.com\n",
        "four = [[0,3,4,0],[4,0,0,2],[1,0,0,3],[0,2,1,0]]\n",
        "\n",
        "# these three were taken randomly from sudoku.com\n",
        "easy = [[0,0,0,0,7,9,0,3,0],[5,0,2,0,6,1,4,7,8],[3,7,6,0,8,5,9,0,2],[0,1,7,5,0,0,8,0,0],[2,0,9,8,3,0,0,0,0],[0,0,0,0,2,0,0,4,0],[0,0,0,0,5,0,2,0,1],[0,2,3,0,0,0,0,5,4],[1,0,0,7,0,0,0,0,0]]\n",
        "medium = [[0,3,1,0,5,0,0,2,0],[0,0,0,0,0,2,9,0,5],[2,0,0,0,1,0,0,0,0],[3,5,0,0,9,0,0,7,0],[7,0,0,5,0,0,0,4,0],[0,1,0,7,0,3,2,0,0],[1,2,6,3,0,0,0,0,0],[0,9,0,8,0,5,0,0,0],[5,0,0,0,2,0,7,0,0]]\n",
        "hard = [[0,4,0,0,0,5,0,6,0],[0,0,5,4,2,0,0,0,0],[0,0,1,6,0,3,5,0,4],[0,0,0,0,0,0,7,0,0],[0,3,7,0,0,0,0,1,0],[9,0,0,0,0,4,3,5,0],[0,0,4,2,5,0,0,0,0],[0,0,0,0,0,0,0,7,6],[6,0,9,0,7,0,0,0,5]]\n",
        "\n",
        "# this is the solved version of the \"easy\" sudoku above.\n",
        "solved = [[8,4,1,2,7,9,6,3,5],[5,9,2,3,6,1,4,7,8],[3,7,6,4,8,5,9,1,2],[4,1,7,5,9,6,8,2,3],[2,5,9,8,3,4,1,6,7],[6,3,8,1,2,7,5,4,9],[7,6,4,9,5,3,2,8,1],[9,2,3,6,1,8,7,5,4],[1,8,5,7,4,2,3,9,6]]"
      ],
      "metadata": {
        "id": "h6XoCgx1WEnq"
      },
      "execution_count": null,
      "outputs": []
    },
    {
      "cell_type": "markdown",
      "source": [
        "# Model Creation and Training"
      ],
      "metadata": {
        "id": "CdUUOf3QRZYl"
      }
    },
    {
      "cell_type": "code",
      "source": [
        "from keras.layers import Activation\n",
        "from keras.layers import Conv2D, BatchNormalization, Dense, Flatten, Reshape\n",
        "from sklearn.model_selection import train_test_split\n",
        "\n",
        "class sudokuSolver():\n",
        "\n",
        "  model = None\n",
        "\n",
        "  def __init__(self, pre_trained = 0):\n",
        "    if pre_trained == 1:\n",
        "      self.model = keras.models.load_model(\"/content/gdrive/My Drive/ColabNotebooks/IP/trained_on_100.keras\")\n",
        "    elif pre_trained == 2:\n",
        "      self.model = keras.models.load_model(\"/content/gdrive/My Drive/ColabNotebooks/IP/trained_on_1000.keras\")\n",
        "    elif pre_trained == 3:\n",
        "      self.model = keras.models.load_model(\"/content/gdrive/My Drive/ColabNotebooks/IP/trained_on_10000.keras\")\n",
        "    elif pre_trained == 4:\n",
        "      self.model = keras.models.load_model(\"/content/gdrive/My Drive/ColabNotebooks/IP/trained_on_100000.keras\")\n",
        "    elif pre_trained == 5:\n",
        "      self.model = keras.models.load_model(\"/content/gdrive/My Drive/ColabNotebooks/IP/trained_on_500000.keras\")\n",
        "    elif pre_trained == 6:\n",
        "      self.model = keras.models.load_model(\"/content/gdrive/My Drive/ColabNotebooks/IP/trained_on_full.keras\")\n",
        "    else:\n",
        "      self.model = keras.models.Sequential()\n",
        "\n",
        "      self.model.add(Conv2D(64, kernel_size=(3,3), activation='relu', padding='same', input_shape=(9,9,1)))\n",
        "      self.model.add(BatchNormalization())\n",
        "      self.model.add(Conv2D(64, kernel_size=(3,3), activation='relu', padding='same'))\n",
        "      self.model.add(BatchNormalization())\n",
        "      self.model.add(Conv2D(128, kernel_size=(1,1), activation='relu', padding='same'))\n",
        "\n",
        "      self.model.add(Flatten())\n",
        "      self.model.add(Dense(81*9))\n",
        "      self.model.add(Reshape((-1, 9)))\n",
        "      self.model.add(Activation('softmax'))\n",
        "\n",
        "      self.model.compile(loss='sparse_categorical_crossentropy', optimizer='adam')\n",
        "  \n",
        "  def format_puzzle(self, puzzle):\n",
        "    formatted_puzzle = []\n",
        "    for x in range(9):\n",
        "      row = []\n",
        "      temp = puzzle[x*9:(x+1)*9]\n",
        "      for y in temp:\n",
        "        row.append(int(y))\n",
        "      formatted_puzzle.append(row)\n",
        "    formatted_puzzle = np.array(formatted_puzzle)\n",
        "    return self.normalise(formatted_puzzle).reshape((9,9,1))\n",
        "\n",
        "  def normalise(self, val):\n",
        "    return (val/9) - 0.5\n",
        "\n",
        "  def denormalise(self, val):\n",
        "    return (val+0.5) * 9\n",
        "\n",
        "  def save_model(self, name):\n",
        "    self.model.save(\"/content/gdrive/My Drive/ColabNotebooks/IP/\" + name)\n",
        "\n",
        "  def train(self, tr_puzzles, tr_solutions, split = 0.2):\n",
        "    train_puzzles = []\n",
        "    train_solutions = []\n",
        "    for x in tr_puzzles:\n",
        "      train_puzzles.append(self.format_puzzle(x).reshape((9,9,1)))\n",
        "    for x in tr_solutions:\n",
        "      train_solutions.append(np.array([int(t) for t in x]).reshape((81,1))-1)\n",
        "\n",
        "    train_puzzles, test_puzzles, train_solutions, test_solutions = train_test_split(tr_puzzles, tr_solutions, test_size=split)\n",
        "\n",
        "    print(\"Training with \" + str(len(train_puzzles)) + \" puzzles.\")\n",
        "\n",
        "    self.model.fit(train_puzzles, train_solutions, batch_size = 64, epochs=2, verbose=1)\n",
        "\n",
        "  def get_model(self):\n",
        "    return self.model\n",
        "\n",
        "  def solve(self, puzzle):\n",
        "    solution = np.copy(puzzle).reshape((9,9))\n",
        "    while True:\n",
        "      formatted_puzzle = self.format_puzzle(solution)\n",
        "\n",
        "      output = self.model.predict(formatted_puzzle).squeeze()\n",
        "\n",
        "      predictions = np.argmax(output, axis = 1).reshape((9,9)) + 1\n",
        "      probabilities = np.around(np.max(output, axis=1).reshape((9,9)), 2)\n",
        "\n",
        "      mask = np.array(solution == 0)\n",
        "      if mask.sum() == 0:\n",
        "        break\n",
        "\n",
        "      probabilities *= mask\n",
        "\n",
        "      index_of_highest = np.argmax(probabilities)\n",
        "      x, y = (index_of_highest // 9), (index_of_highest % 9)\n",
        "\n",
        "      solution[x][y] = predictions[x][y]\n",
        "\n",
        "    return solution"
      ],
      "metadata": {
        "id": "L4x3AWuskt42"
      },
      "execution_count": null,
      "outputs": []
    },
    {
      "cell_type": "markdown",
      "source": [
        "# Training the Solver"
      ],
      "metadata": {
        "id": "jOjf9pacn64L"
      }
    },
    {
      "cell_type": "code",
      "source": [
        "model = sudokuSolver(0)\n",
        "model.train(puzzles, solutions, 0.99)\n"
      ],
      "metadata": {
        "colab": {
          "base_uri": "https://localhost:8080/",
          "height": 782
        },
        "id": "Eee4rV-on8dD",
        "outputId": "8de0b6e9-55b5-4727-a627-5c105cf0b54d"
      },
      "execution_count": null,
      "outputs": [
        {
          "output_type": "stream",
          "name": "stdout",
          "text": [
            "Training with 10000 puzzles.\n",
            "Epoch 1/2\n",
            "WARNING:tensorflow:Model was constructed with shape (None, 9, 9, 1) for input KerasTensor(type_spec=TensorSpec(shape=(None, 9, 9, 1), dtype=tf.float32, name='conv2d_9_input'), name='conv2d_9_input', description=\"created by layer 'conv2d_9_input'\"), but it was called on an input with incompatible shape (None, 1).\n"
          ]
        },
        {
          "output_type": "error",
          "ename": "ValueError",
          "evalue": "ignored",
          "traceback": [
            "\u001b[0;31m---------------------------------------------------------------------------\u001b[0m",
            "\u001b[0;31mValueError\u001b[0m                                Traceback (most recent call last)",
            "\u001b[0;32m<ipython-input-23-8efc53df2258>\u001b[0m in \u001b[0;36m<module>\u001b[0;34m()\u001b[0m\n\u001b[1;32m      1\u001b[0m \u001b[0mmodel\u001b[0m \u001b[0;34m=\u001b[0m \u001b[0msudokuSolver\u001b[0m\u001b[0;34m(\u001b[0m\u001b[0;36m0\u001b[0m\u001b[0;34m)\u001b[0m\u001b[0;34m\u001b[0m\u001b[0;34m\u001b[0m\u001b[0m\n\u001b[0;32m----> 2\u001b[0;31m \u001b[0mmodel\u001b[0m\u001b[0;34m.\u001b[0m\u001b[0mtrain\u001b[0m\u001b[0;34m(\u001b[0m\u001b[0mpuzzles\u001b[0m\u001b[0;34m,\u001b[0m \u001b[0msolutions\u001b[0m\u001b[0;34m,\u001b[0m \u001b[0;36m0.99\u001b[0m\u001b[0;34m)\u001b[0m\u001b[0;34m\u001b[0m\u001b[0;34m\u001b[0m\u001b[0m\n\u001b[0m",
            "\u001b[0;32m<ipython-input-22-1a1ccb1d0dbd>\u001b[0m in \u001b[0;36mtrain\u001b[0;34m(self, tr_puzzles, tr_solutions, split)\u001b[0m\n\u001b[1;32m     68\u001b[0m     \u001b[0mprint\u001b[0m\u001b[0;34m(\u001b[0m\u001b[0;34m\"Training with \"\u001b[0m \u001b[0;34m+\u001b[0m \u001b[0mstr\u001b[0m\u001b[0;34m(\u001b[0m\u001b[0mlen\u001b[0m\u001b[0;34m(\u001b[0m\u001b[0mtrain_puzzles\u001b[0m\u001b[0;34m)\u001b[0m\u001b[0;34m)\u001b[0m \u001b[0;34m+\u001b[0m \u001b[0;34m\" puzzles.\"\u001b[0m\u001b[0;34m)\u001b[0m\u001b[0;34m\u001b[0m\u001b[0;34m\u001b[0m\u001b[0m\n\u001b[1;32m     69\u001b[0m \u001b[0;34m\u001b[0m\u001b[0m\n\u001b[0;32m---> 70\u001b[0;31m     \u001b[0mself\u001b[0m\u001b[0;34m.\u001b[0m\u001b[0mmodel\u001b[0m\u001b[0;34m.\u001b[0m\u001b[0mfit\u001b[0m\u001b[0;34m(\u001b[0m\u001b[0mtrain_puzzles\u001b[0m\u001b[0;34m,\u001b[0m \u001b[0mtrain_solutions\u001b[0m\u001b[0;34m,\u001b[0m \u001b[0mbatch_size\u001b[0m \u001b[0;34m=\u001b[0m \u001b[0;36m64\u001b[0m\u001b[0;34m,\u001b[0m \u001b[0mepochs\u001b[0m\u001b[0;34m=\u001b[0m\u001b[0;36m2\u001b[0m\u001b[0;34m,\u001b[0m \u001b[0mverbose\u001b[0m\u001b[0;34m=\u001b[0m\u001b[0;36m1\u001b[0m\u001b[0;34m)\u001b[0m\u001b[0;34m\u001b[0m\u001b[0;34m\u001b[0m\u001b[0m\n\u001b[0m\u001b[1;32m     71\u001b[0m \u001b[0;34m\u001b[0m\u001b[0m\n\u001b[1;32m     72\u001b[0m   \u001b[0;32mdef\u001b[0m \u001b[0mget_model\u001b[0m\u001b[0;34m(\u001b[0m\u001b[0mself\u001b[0m\u001b[0;34m)\u001b[0m\u001b[0;34m:\u001b[0m\u001b[0;34m\u001b[0m\u001b[0;34m\u001b[0m\u001b[0m\n",
            "\u001b[0;32m/usr/local/lib/python3.7/dist-packages/keras/utils/traceback_utils.py\u001b[0m in \u001b[0;36merror_handler\u001b[0;34m(*args, **kwargs)\u001b[0m\n\u001b[1;32m     65\u001b[0m     \u001b[0;32mexcept\u001b[0m \u001b[0mException\u001b[0m \u001b[0;32mas\u001b[0m \u001b[0me\u001b[0m\u001b[0;34m:\u001b[0m  \u001b[0;31m# pylint: disable=broad-except\u001b[0m\u001b[0;34m\u001b[0m\u001b[0;34m\u001b[0m\u001b[0m\n\u001b[1;32m     66\u001b[0m       \u001b[0mfiltered_tb\u001b[0m \u001b[0;34m=\u001b[0m \u001b[0m_process_traceback_frames\u001b[0m\u001b[0;34m(\u001b[0m\u001b[0me\u001b[0m\u001b[0;34m.\u001b[0m\u001b[0m__traceback__\u001b[0m\u001b[0;34m)\u001b[0m\u001b[0;34m\u001b[0m\u001b[0;34m\u001b[0m\u001b[0m\n\u001b[0;32m---> 67\u001b[0;31m       \u001b[0;32mraise\u001b[0m \u001b[0me\u001b[0m\u001b[0;34m.\u001b[0m\u001b[0mwith_traceback\u001b[0m\u001b[0;34m(\u001b[0m\u001b[0mfiltered_tb\u001b[0m\u001b[0;34m)\u001b[0m \u001b[0;32mfrom\u001b[0m \u001b[0;32mNone\u001b[0m\u001b[0;34m\u001b[0m\u001b[0;34m\u001b[0m\u001b[0m\n\u001b[0m\u001b[1;32m     68\u001b[0m     \u001b[0;32mfinally\u001b[0m\u001b[0;34m:\u001b[0m\u001b[0;34m\u001b[0m\u001b[0;34m\u001b[0m\u001b[0m\n\u001b[1;32m     69\u001b[0m       \u001b[0;32mdel\u001b[0m \u001b[0mfiltered_tb\u001b[0m\u001b[0;34m\u001b[0m\u001b[0;34m\u001b[0m\u001b[0m\n",
            "\u001b[0;32m/usr/local/lib/python3.7/dist-packages/tensorflow/python/framework/func_graph.py\u001b[0m in \u001b[0;36mautograph_handler\u001b[0;34m(*args, **kwargs)\u001b[0m\n\u001b[1;32m   1145\u001b[0m           \u001b[0;32mexcept\u001b[0m \u001b[0mException\u001b[0m \u001b[0;32mas\u001b[0m \u001b[0me\u001b[0m\u001b[0;34m:\u001b[0m  \u001b[0;31m# pylint:disable=broad-except\u001b[0m\u001b[0;34m\u001b[0m\u001b[0;34m\u001b[0m\u001b[0m\n\u001b[1;32m   1146\u001b[0m             \u001b[0;32mif\u001b[0m \u001b[0mhasattr\u001b[0m\u001b[0;34m(\u001b[0m\u001b[0me\u001b[0m\u001b[0;34m,\u001b[0m \u001b[0;34m\"ag_error_metadata\"\u001b[0m\u001b[0;34m)\u001b[0m\u001b[0;34m:\u001b[0m\u001b[0;34m\u001b[0m\u001b[0;34m\u001b[0m\u001b[0m\n\u001b[0;32m-> 1147\u001b[0;31m               \u001b[0;32mraise\u001b[0m \u001b[0me\u001b[0m\u001b[0;34m.\u001b[0m\u001b[0mag_error_metadata\u001b[0m\u001b[0;34m.\u001b[0m\u001b[0mto_exception\u001b[0m\u001b[0;34m(\u001b[0m\u001b[0me\u001b[0m\u001b[0;34m)\u001b[0m\u001b[0;34m\u001b[0m\u001b[0;34m\u001b[0m\u001b[0m\n\u001b[0m\u001b[1;32m   1148\u001b[0m             \u001b[0;32melse\u001b[0m\u001b[0;34m:\u001b[0m\u001b[0;34m\u001b[0m\u001b[0;34m\u001b[0m\u001b[0m\n\u001b[1;32m   1149\u001b[0m               \u001b[0;32mraise\u001b[0m\u001b[0;34m\u001b[0m\u001b[0;34m\u001b[0m\u001b[0m\n",
            "\u001b[0;31mValueError\u001b[0m: in user code:\n\n    File \"/usr/local/lib/python3.7/dist-packages/keras/engine/training.py\", line 1021, in train_function  *\n        return step_function(self, iterator)\n    File \"/usr/local/lib/python3.7/dist-packages/keras/engine/training.py\", line 1010, in step_function  **\n        outputs = model.distribute_strategy.run(run_step, args=(data,))\n    File \"/usr/local/lib/python3.7/dist-packages/keras/engine/training.py\", line 1000, in run_step  **\n        outputs = model.train_step(data)\n    File \"/usr/local/lib/python3.7/dist-packages/keras/engine/training.py\", line 859, in train_step\n        y_pred = self(x, training=True)\n    File \"/usr/local/lib/python3.7/dist-packages/keras/utils/traceback_utils.py\", line 67, in error_handler\n        raise e.with_traceback(filtered_tb) from None\n    File \"/usr/local/lib/python3.7/dist-packages/keras/engine/input_spec.py\", line 228, in assert_input_compatibility\n        raise ValueError(f'Input {input_index} of layer \"{layer_name}\" '\n\n    ValueError: Exception encountered when calling layer \"sequential_3\" (type Sequential).\n    \n    Input 0 of layer \"conv2d_9\" is incompatible with the layer: expected min_ndim=4, found ndim=2. Full shape received: (None, 1)\n    \n    Call arguments received:\n      • inputs=tf.Tensor(shape=(None, 1), dtype=string)\n      • training=True\n      • mask=None\n"
          ]
        }
      ]
    },
    {
      "cell_type": "markdown",
      "source": [
        "# Solver"
      ],
      "metadata": {
        "id": "70RGNxQDRcod"
      }
    },
    {
      "cell_type": "code",
      "source": [
        "game = hard\n",
        "with tf.device(\"/device:GPU:0\"):\n",
        "  model = sudokuSolver(6)\n",
        "  print(model.solve(game))"
      ],
      "metadata": {
        "colab": {
          "base_uri": "https://localhost:8080/"
        },
        "id": "EqPa5hyymjcI",
        "outputId": "67ad6857-4054-4f32-e42b-92cee4b308d5"
      },
      "execution_count": null,
      "outputs": [
        {
          "output_type": "stream",
          "name": "stdout",
          "text": [
            "[[2 4 3 9 1 5 8 6 7]\n",
            " [8 6 5 4 2 7 1 9 3]\n",
            " [7 9 1 6 8 3 5 2 4]\n",
            " [5 2 6 1 3 8 7 4 9]\n",
            " [4 3 7 5 9 2 6 1 8]\n",
            " [9 1 8 7 6 4 3 5 2]\n",
            " [3 7 4 2 5 6 9 8 1]\n",
            " [1 5 2 8 4 9 2 7 6]\n",
            " [6 8 9 3 7 1 4 3 5]]\n"
          ]
        }
      ]
    },
    {
      "cell_type": "code",
      "source": [
        "model.save_model(\"trained_on_500000.keras\")"
      ],
      "metadata": {
        "id": "PrBKnu-slkfh"
      },
      "execution_count": null,
      "outputs": []
    }
  ]
}