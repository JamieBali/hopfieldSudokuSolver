{
  "nbformat": 4,
  "nbformat_minor": 0,
  "metadata": {
    "colab": {
      "name": "HNN Sudoku Solver",
      "provenance": [],
      "collapsed_sections": [],
      "authorship_tag": "ABX9TyO4zeFW7xTULuYXiDogTl+D",
      "include_colab_link": true
    },
    "kernelspec": {
      "name": "python3",
      "display_name": "Python 3"
    },
    "language_info": {
      "name": "python"
    }
  },
  "cells": [
    {
      "cell_type": "markdown",
      "metadata": {
        "id": "view-in-github",
        "colab_type": "text"
      },
      "source": [
        "<a href=\"https://colab.research.google.com/github/JamieBali/sudoku/blob/main/HNN_Sudoku_Solver.ipynb\" target=\"_parent\"><img src=\"https://colab.research.google.com/assets/colab-badge.svg\" alt=\"Open In Colab\"/></a>"
      ]
    },
    {
      "cell_type": "markdown",
      "source": [
        "# HNN Sudoku Solver"
      ],
      "metadata": {
        "id": "MjBOaVXMFG8N"
      }
    },
    {
      "cell_type": "code",
      "source": [
        "import numpy as np\n",
        "import pandas as pd, csv\n",
        "import math, random"
      ],
      "metadata": {
        "id": "t71fvcJoGsoz"
      },
      "execution_count": 103,
      "outputs": []
    },
    {
      "cell_type": "code",
      "execution_count": 2,
      "metadata": {
        "id": "1h1GPkkVFFIi"
      },
      "outputs": [],
      "source": [
        "trivial = [[8,9,1,2,7,0,5,6,3],[6,0,3,1,8,5,9,0,0],[4,5,7,6,3,9,0,0,2],[5,0,6,4,1,7,2,3,0],[7,0,2,9,0,3,8,1,6],[3,1,0,0,2,6,0,5,4],[9,3,8,5,4,0,6,7,0],[1,6,4,0,9,0,3,2,5],[0,7,5,3,6,1,4,9,8]]\n",
        "\n",
        "# this is a very simple 4x4 sudoku from sudoku.com which we can use to test the network.\n",
        "four = [[0,3,4,0],[4,0,0,2],[1,0,0,3],[0,2,1,0]]\n",
        "\n",
        "# these three were taken randomly from sudoku.com\n",
        "easy = [[0,0,0,0,7,9,0,3,0],[5,0,2,0,6,1,4,7,8],[3,7,6,0,8,5,9,0,2],[0,1,7,5,0,0,8,0,0],[2,0,9,8,3,0,0,0,0],[0,0,0,0,2,0,0,4,0],[0,0,0,0,5,0,2,0,1],[0,2,3,0,0,0,0,5,4],[1,0,0,7,0,0,0,0,0]]\n",
        "medium = [[0,3,1,0,5,0,0,2,0],[0,0,0,0,0,2,9,0,5],[2,0,0,0,1,0,0,0,0],[3,5,0,0,9,0,0,7,0],[7,0,0,5,0,0,0,4,0],[0,1,0,7,0,3,2,0,0],[1,2,6,3,0,0,0,0,0],[0,9,0,8,0,5,0,0,0],[5,0,0,0,2,0,7,0,0]]\n",
        "hard = [[0,4,0,0,0,5,0,6,0],[0,0,5,4,2,0,0,0,0],[0,0,1,6,0,3,5,0,4],[0,0,0,0,0,0,7,0,0],[0,3,7,0,0,0,0,1,0],[9,0,0,0,0,4,3,5,0],[0,0,4,2,5,0,0,0,0],[0,0,0,0,0,0,0,7,6],[6,0,9,0,7,0,0,0,5]]\n",
        "\n",
        "# this is the solved version of the \"easy\" sudoku above.\n",
        "solved = [[8,4,1,2,7,9,6,3,5],[5,9,2,3,6,1,4,7,8],[3,7,6,4,8,5,9,1,2],[4,1,7,5,9,6,8,2,3],[2,5,9,8,3,4,1,6,7],[6,3,8,1,2,7,5,4,9],[7,6,4,9,5,3,2,8,1],[9,2,3,6,1,8,7,5,4],[1,8,5,7,4,2,3,9,6]]"
      ]
    },
    {
      "cell_type": "markdown",
      "source": [
        "# Hopfield Neurones\n",
        "\n",
        "We will construct each neurone in the network as its own object and create an array of them to act as the network. This will allow us to make edits to the functionality of the network easier."
      ],
      "metadata": {
        "id": "DvImaDLCFd-9"
      }
    },
    {
      "cell_type": "code",
      "source": [
        "class Neuron:\n",
        "  input=0\n",
        "  output=0\n",
        "  energy=0\n",
        "  i=0\n",
        "  j=0\n",
        "  k=0\n",
        "  \n",
        "  def __init__(self, i, j, k, cell_value, size): #constructor to initialize values for each neuron\n",
        "    self.i = i\n",
        "    self.j = j\n",
        "    self.k = k\n",
        "    self.input = cell_value\n",
        "    self.size = size\n",
        "\n",
        "  def step_neurone(self, output_for_each_neuron):    \n",
        "    i = self.i\n",
        "    j = self.j\n",
        "    k = self.k\n",
        "    first_term = self.input\n",
        "    second_term = 0.0\n",
        "    \n",
        "    ###\n",
        "    # Domain constraints - increase energy with violations to rules of sudoku\n",
        "    ###\n",
        "    for i_itt in range(0,self.size): # in the same row\n",
        "      if(i_itt!=i):                  # but not self\n",
        "        second_term += output_for_each_neuron[i_itt][j][k]\n",
        "\n",
        "    for j_itt in range(0,self.size): # in the same column\n",
        "      if(j_itt!=j):                  # but not self\n",
        "         second_term += output_for_each_neuron[i][j_itt][k]\n",
        "\n",
        "    for k_itt in range(0,self.size): # in the same tile\n",
        "      if(k_itt!=k):                  # but not self\n",
        "        second_term += output_for_each_neuron[i][j][k_itt]\n",
        "    \n",
        "    sub_size = int(math.sqrt(self.size))\n",
        "    sub_num = (math.floor(i/sub_size) * sub_size) + (math.floor(j/sub_size))\n",
        "    r_start = math.floor(sub_num / sub_size)  * sub_size\n",
        "    c_start = (sub_num % sub_size) * sub_size\n",
        "\n",
        "    # 0 | 3 | 6\n",
        "    # ---------\n",
        "    # 1 | 4 | 7\n",
        "    # ---------\n",
        "    # 2 | 5 | 8\n",
        "    \n",
        "    for i_itt in range(r_start,r_start+sub_size): # for each tile in the sub-grid\n",
        "      for j_itt in range(c_start, c_start+sub_size):\n",
        "        if not (i_itt==i and j_itt==j): # but not self\n",
        "          second_term += output_for_each_neuron[i_itt][j_itt][k]\n",
        "          \n",
        "    self.energy = first_term + second_term    \n",
        "    self.output = self.energy\n",
        "    return self.energy\n",
        "  \n",
        "  def get_output(self):\n",
        "    return self.output"
      ],
      "metadata": {
        "id": "zdt3qHAyGbRf"
      },
      "execution_count": 59,
      "outputs": []
    },
    {
      "cell_type": "markdown",
      "source": [
        "# Network Construction\n"
      ],
      "metadata": {
        "id": "xmbBaL6WOa5C"
      }
    },
    {
      "cell_type": "code",
      "source": [
        "class hopfieldNetwork():\n",
        "  def __init__(self, puzzle, size, verbose = False):\n",
        "    self.size = size\n",
        "    self.verbose = verbose\n",
        "    self.puzzle = self.network_format(puzzle)\n",
        "    self.neurones = self.generate_neurones()\n",
        "    self.steps = sum(np.array([int(x == 0) for x in np.copy(puzzle).flatten()])) - 1\n",
        "\n",
        "  def network_format(self, sudoku):\n",
        "    ret_puzzle = np.zeros((self.size, self.size, self.size)) \n",
        "    for i in range(self.size):\n",
        "      for j in range(self.size):\n",
        "        if sudoku[i][j] > 0:\n",
        "          ret_puzzle[i][j][sudoku[i][j]-1] = 1\n",
        "    return ret_puzzle\n",
        "\n",
        "  def readable_format(self):\n",
        "    result = np.zeros((self.size, self.size))\n",
        "    for i in range(self.size):\n",
        "      for j in range(self.size):\n",
        "        for k in range(self.size):\n",
        "          if self.puzzle[i][j][k] == 1:\n",
        "            result[i][j] = k + 1\n",
        "    return result\n",
        "\n",
        "  def generate_neurones(self):\n",
        "    neurones = []\n",
        "    for i in range(self.size):\n",
        "      for j in range(self.size):\n",
        "        for k in range(self.size):\n",
        "          neurones.append(Neuron(i, j, k, self.puzzle[i][j][k], self.size))\n",
        "    return neurones\n",
        "\n",
        "  def get_index(self, row, column, number):\n",
        "    return int((column * (self.size ** 2)) + (row * self.size) + number)\n",
        "\n",
        "  def step(self):\n",
        "    for _ in range(2):  # the first iteration fills the grid with possibilities, and the second drops the energy of ones it dislikes.\n",
        "\n",
        "      outputs = np.zeros((self.size, self.size, self.size))       # stores the outputs from each neurone after each step\n",
        "\n",
        "      for i in range(self.size):\n",
        "        for j in range(self.size):\n",
        "          for k in range(self.size):\n",
        "            outputs[i][j][k] = self.neurones[self.get_index(i,j,k)].get_output()\n",
        "\n",
        "      for itt in range(0, self.size**3):\n",
        "        self.neurones[itt].step_neurone(outputs)    \n",
        "\n",
        "    self.build_board()\n",
        "\n",
        "  def build_board(self):\n",
        "    k_to_set = []\n",
        "    lowest_k = -1\n",
        "    for i in range(self.size):\n",
        "      for j in range(self.size):\n",
        "        if not(1 in self.puzzle[i][j]):\n",
        "          for k in range(self.size):\n",
        "            temp = self.neurones[self.get_index(i,j,k)].get_output() \n",
        "            if (temp < lowest_k or lowest_k == -1):\n",
        "              lowest_k = temp\n",
        "              k_to_set = [i,j,k]\n",
        "    self.puzzle[k_to_set[0]][k_to_set[1]][k_to_set[2]] = 1    \n",
        "    if self.verbose:\n",
        "      print(\"set \" + str(k_to_set[0]) + \",\" + str(k_to_set[1]) + \" as \" + str(k_to_set[2] + 1))  \n",
        "\n",
        "  def reset_network(self):\n",
        "    self.neurones = self.generate_neurones()   \n",
        "\n",
        "  def is_solved(self):\n",
        "    check_puzzle = np.zeros((self.size, self.size))\n",
        "    for x in range(self.size):\n",
        "      for y in range(self.size):\n",
        "        for z in range(self.size):\n",
        "          if self.puzzle[x][y][z] == 1:\n",
        "            check_puzzle[x][y] = z + 1\n",
        "    sums = np.zeros(self.size)\n",
        "    for x in range(self.size):\n",
        "      for y in range(self.size):\n",
        "        sums[int(check_puzzle[x][y]) - 1] += 1\n",
        "    for x in sums:\n",
        "      if x != self.size:\n",
        "        return False\n",
        "    return True\n",
        "\n",
        "  def run(self):\n",
        "    for x in range(self.steps):\n",
        "      self.step()\n",
        "      self.reset_network()\n",
        "    return self.readable_format(), self.is_solved()"
      ],
      "metadata": {
        "id": "HuSUfxuoPjva"
      },
      "execution_count": 113,
      "outputs": []
    },
    {
      "cell_type": "markdown",
      "source": [
        "# Testing"
      ],
      "metadata": {
        "id": "gpfnhDFrJra6"
      }
    },
    {
      "cell_type": "code",
      "source": [
        "net = hopfieldNetwork(easy, 9)\n",
        "returned_puzzle, success = net.run()\n",
        "if success:\n",
        "  print(\"SUCCESS\")\n",
        "else:\n",
        "  print(returned_puzzle)"
      ],
      "metadata": {
        "id": "Xm60RI6mYKOt",
        "outputId": "a5ab23a0-665e-4fe8-bc5a-67fed0dca92b",
        "colab": {
          "base_uri": "https://localhost:8080/"
        }
      },
      "execution_count": 116,
      "outputs": [
        {
          "output_type": "stream",
          "name": "stdout",
          "text": [
            "SUCCESS\n"
          ]
        }
      ]
    },
    {
      "cell_type": "markdown",
      "source": [
        "# Experiments"
      ],
      "metadata": {
        "id": "C3dkuXfTJslz"
      }
    },
    {
      "cell_type": "code",
      "source": [
        "from google.colab import drive\n",
        "drive.mount(\"gdrive\")\n",
        "\n",
        "import pandas as pd, csv\n",
        "import time\n",
        "\n",
        "filepath = \"/content/gdrive/My Drive/ColabNotebooks/IP/sudoku.csv\"\n",
        "inp = pd.read_csv(filepath)\n",
        "\n",
        "puzzles = inp[\"quizzes\"][-500:]\n",
        "\n",
        "successful = 0\n",
        "puzz_no = 1\n",
        "times = []\n",
        "solvable = []\n",
        "for p in puzzles:\n",
        "  print(puzz_no)\n",
        "  usable_puzzle = np.array([int(t) for t in p]).reshape((9,9))\n",
        "  a = time.perf_counter()\n",
        "  net = hopfieldNetwork(usable_puzzle, 9)\n",
        "  _, solve = net.run()\n",
        "  b = time.perf_counter()\n",
        "  if solve:\n",
        "    successful += 1\n",
        "    times.append(b-a)\n",
        "    solvable.append(p)\n",
        "  puzz_no += 1\n",
        "\n",
        "print(\"Accuracy  : \"  + str(successful / 10) + \"%\")\n",
        "print(\"Avg. Time : \" + str(np.average(times)))\n",
        "print(\"Max Time  : \" + str(np.max(times)))"
      ],
      "metadata": {
        "colab": {
          "base_uri": "https://localhost:8080/"
        },
        "id": "pklgE-lMZGbs",
        "outputId": "046ecc11-69b0-4851-b69c-507ed2bf2d98"
      },
      "execution_count": 121,
      "outputs": [
        {
          "output_type": "stream",
          "name": "stdout",
          "text": [
            "Accuracy  : 9.2%\n",
            "Avg. Time : 1.1624517273478254\n",
            "Max Time  : 1.4333317010003157\n"
          ]
        }
      ]
    }
  ]
}