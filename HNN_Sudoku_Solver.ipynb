{
  "nbformat": 4,
  "nbformat_minor": 0,
  "metadata": {
    "colab": {
      "name": "HNN Sudoku Solver",
      "provenance": [],
      "collapsed_sections": [],
      "authorship_tag": "ABX9TyN2GgGyQ49QBFo7qbyJfxRR",
      "include_colab_link": true
    },
    "kernelspec": {
      "name": "python3",
      "display_name": "Python 3"
    },
    "language_info": {
      "name": "python"
    }
  },
  "cells": [
    {
      "cell_type": "markdown",
      "metadata": {
        "id": "view-in-github",
        "colab_type": "text"
      },
      "source": [
        "<a href=\"https://colab.research.google.com/github/JamieBali/sudoku/blob/main/HNN_Sudoku_Solver.ipynb\" target=\"_parent\"><img src=\"https://colab.research.google.com/assets/colab-badge.svg\" alt=\"Open In Colab\"/></a>"
      ]
    },
    {
      "cell_type": "markdown",
      "source": [
        "# HNN Sudoku Solver"
      ],
      "metadata": {
        "id": "MjBOaVXMFG8N"
      }
    },
    {
      "cell_type": "code",
      "source": [
        "import numpy as np\n",
        "import pandas as pd, csv\n",
        "import math"
      ],
      "metadata": {
        "id": "t71fvcJoGsoz"
      },
      "execution_count": null,
      "outputs": []
    },
    {
      "cell_type": "code",
      "execution_count": null,
      "metadata": {
        "id": "1h1GPkkVFFIi"
      },
      "outputs": [],
      "source": [
        "trivial = [[8,9,1,2,7,0,5,6,3],[6,0,3,1,8,5,9,0,0],[4,5,7,6,3,9,0,0,2],[5,0,6,4,1,7,2,3,0],[7,0,2,9,0,3,8,1,6],[3,1,0,0,2,6,0,5,4],[9,3,8,5,4,0,6,7,0],[1,6,4,0,9,0,3,2,5],[0,7,5,3,6,1,4,9,8]]\n",
        "\n",
        "# this is a very simple 4x4 sudoku from sudoku.com which we can use to test the network.\n",
        "four = [[0,3,4,0],[4,0,0,2],[1,0,0,3],[0,2,1,0]]\n",
        "\n",
        "# these three were taken randomly from sudoku.com\n",
        "easy = [[0,0,0,0,7,9,0,3,0],[5,0,2,0,6,1,4,7,8],[3,7,6,0,8,5,9,0,2],[0,1,7,5,0,0,8,0,0],[2,0,9,8,3,0,0,0,0],[0,0,0,0,2,0,0,4,0],[0,0,0,0,5,0,2,0,1],[0,2,3,0,0,0,0,5,4],[1,0,0,7,0,0,0,0,0]]\n",
        "medium = [[0,3,1,0,5,0,0,2,0],[0,0,0,0,0,2,9,0,5],[2,0,0,0,1,0,0,0,0],[3,5,0,0,9,0,0,7,0],[7,0,0,5,0,0,0,4,0],[0,1,0,7,0,3,2,0,0],[1,2,6,3,0,0,0,0,0],[0,9,0,8,0,5,0,0,0],[5,0,0,0,2,0,7,0,0]]\n",
        "hard = [[0,4,0,0,0,5,0,6,0],[0,0,5,4,2,0,0,0,0],[0,0,1,6,0,3,5,0,4],[0,0,0,0,0,0,7,0,0],[0,3,7,0,0,0,0,1,0],[9,0,0,0,0,4,3,5,0],[0,0,4,2,5,0,0,0,0],[0,0,0,0,0,0,0,7,6],[6,0,9,0,7,0,0,0,5]]\n",
        "\n",
        "# this is the solved version of the \"easy\" sudoku above.\n",
        "solved = [[8,4,1,2,7,9,6,3,5],[5,9,2,3,6,1,4,7,8],[3,7,6,4,8,5,9,1,2],[4,1,7,5,9,6,8,2,3],[2,5,9,8,3,4,1,6,7],[6,3,8,1,2,7,5,4,9],[7,6,4,9,5,3,2,8,1],[9,2,3,6,1,8,7,5,4],[1,8,5,7,4,2,3,9,6]]"
      ]
    },
    {
      "cell_type": "markdown",
      "source": [
        "# Puzzle Formatting\n",
        "\n",
        "We need our puzzles to be in binary form, where 1 represents a filled tile and 0 is empty. It needs to be in a 3-dimensional format $i, j, k$ represening, rows, columns, and values seperately, such that\n",
        "\n",
        "$S[i,j,k] = 1$ where tile $S[i,j] = k$ in a 2-dimensional format."
      ],
      "metadata": {
        "id": "nyh5nyTkFWEt"
      }
    },
    {
      "cell_type": "code",
      "source": [
        "###\n",
        "# This converts the [0-9] construction of the puzzle into a [0 | 1] construction which is more suitable for the network. \n",
        "###\n",
        "def network_format(sudoku, size):\n",
        "  puzzle=[[[0] * size for _ in range(size)]for _ in range(size)]\n",
        "  for i in range(size):\n",
        "    for j in range(size):\n",
        "      if sudoku[i][j] > 0:\n",
        "        puzzle[i][j][sudoku[i][j]-1] = 1\n",
        "  return puzzle\n",
        "\n",
        "###\n",
        "# This converts the [0| 1] construction of the puzzle back into a [0-9] construction so it can be read. \n",
        "###\n",
        "def readable_format(board, size):\n",
        "  result = [[0] * size for _ in range(size)]\n",
        "  for i in range(size):\n",
        "    for j in range(size):\n",
        "      for k in range(size):\n",
        "        if board[i][j][k] == 1:\n",
        "          result[i][j] = k + 1\n",
        "  return result"
      ],
      "metadata": {
        "id": "W1-C9oKEFerM"
      },
      "execution_count": null,
      "outputs": []
    },
    {
      "cell_type": "markdown",
      "source": [
        "# Hopfield Neurones\n",
        "\n",
        "We will construct each neurone in the network as its own object and create an array of them to act as the network. This will allow us to make edits to the functionality of the network easier."
      ],
      "metadata": {
        "id": "DvImaDLCFd-9"
      }
    },
    {
      "cell_type": "code",
      "source": [
        "class Neuron:\n",
        "  input=0\n",
        "  output=0\n",
        "  energy=0\n",
        "  prev_energy=0\n",
        "  alpha=1\n",
        "  i=0\n",
        "  j=0\n",
        "  k=0\n",
        "  \n",
        "  def __init__(self, i, j, k, cell_value, size): #constructor to initialize values for each neuron\n",
        "    self.i = i\n",
        "    self.j = j\n",
        "    self.k = k\n",
        "    self.input = cell_value\n",
        "    self.size = size\n",
        "\n",
        "  def step_neurone(self, output_for_each_neuron):\n",
        "    \n",
        "    # Energy = imput + (alpha * (domain_constraints))\n",
        "\n",
        "    self.prev_energy=self.energy\n",
        "    \n",
        "    i = self.i\n",
        "    j = self.j\n",
        "    k = self.k\n",
        "    first_term = self.input\n",
        "    second_term = 0.0\n",
        "    \n",
        "    ###\n",
        "    # Domain constraints - increase energy with violations to rules of sudoku\n",
        "    ###\n",
        "    for i_itt in range(0,self.size): # in the same row\n",
        "      if(i_itt!=i):                  # but not self\n",
        "        second_term += output_for_each_neuron[i_itt][j][k]\n",
        "\n",
        "    for j_itt in range(0,self.size): # in the same column\n",
        "      if(j_itt!=j):                  # but not self\n",
        "         second_term += output_for_each_neuron[i][j_itt][k]\n",
        "\n",
        "    for k_itt in range(0,self.size): # in the same tile\n",
        "      if(k_itt!=k):                  # but not self\n",
        "        second_term += output_for_each_neuron[i][j][k_itt]\n",
        "    \n",
        "    sub_size = int(math.sqrt(self.size))\n",
        "    sub_num = (math.floor(i/sub_size) * sub_size) + (math.floor(j/sub_size))\n",
        "    r_start = math.floor(sub_num / sub_size)  * sub_size\n",
        "    c_start = (sub_num % sub_size) * sub_size\n",
        "\n",
        "    # 0 | 3 | 6\n",
        "    # ---------\n",
        "    # 1 | 4 | 7\n",
        "    # ---------\n",
        "    # 2 | 5 | 8\n",
        "    \n",
        "    for i_itt in range(r_start,r_start+sub_size): # for each tile in the sub-grid\n",
        "      for j_itt in range(c_start, c_start+sub_size):\n",
        "        if not (i_itt==i and j_itt==j): # but not self\n",
        "          second_term += output_for_each_neuron[i_itt][j_itt][k]\n",
        "          \n",
        "    self.energy = first_term + (self.alpha * second_term)\n",
        "    self.output = self.energy\n",
        "    return self.energy"
      ],
      "metadata": {
        "id": "zdt3qHAyGbRf"
      },
      "execution_count": null,
      "outputs": []
    },
    {
      "cell_type": "markdown",
      "source": [
        "# Network Construction\n"
      ],
      "metadata": {
        "id": "xmbBaL6WOa5C"
      }
    },
    {
      "cell_type": "code",
      "source": [
        "def generate_neurones(puzzle, size):\n",
        "  neurones = []\n",
        "  for i in range(size):\n",
        "    for j in range(size):\n",
        "      for k in range(size):\n",
        "        neurones.append(Neuron(i, j, k, puzzle[i][j][k], size))\n",
        "  return neurones\n",
        "\n",
        "def get_index(row, column, number, size):\n",
        "  return int((column * (size ** 2)) + (row * size) + number)\n",
        "\n",
        "def step(neurones, size):\n",
        "  outputs = [[[0] * size for _ in range(size)]for _ in range(size)]       # stores the outputs from each neurone after each step\n",
        "\n",
        "  for i in range(size):\n",
        "    for j in range(size):\n",
        "      for k in range(size):\n",
        "        outputs[i][j][k] = neurones[get_index(i,j,k,size)].output\n",
        "\n",
        "  delta = []\n",
        "  for itt in range(0, size**3):\n",
        "    delta.append(neurones[itt].step_neurone(outputs) - neurones[itt].prev_energy)\n",
        "\n",
        "  stability = is_stable(delta, size)\n",
        "\n",
        "  return neurones, stability\n",
        "\n",
        "def is_stable(delta, size):\n",
        "  highest = 0\n",
        "  for itt in range(size**3):\n",
        "    if delta[itt] > highest:\n",
        "      highest = delta[itt]\n",
        "  return highest\n",
        "\n",
        "def build_board(neurones, puzzle, size):\n",
        "  for i in range(size):\n",
        "    for j in range(size):\n",
        "      k_to_set = 0\n",
        "      lowest_k = -1\n",
        "      for k in range(size):\n",
        "        if neurones[get_index(i,j,k,size)].output < lowest_k or lowest_k == -1:\n",
        "          lowest_k = neurones[get_index(i,j,k,size)].output\n",
        "          k_to_set = k\n",
        "      for k in range(size):\n",
        "        puzzle[i][j][k] = 0\n",
        "      puzzle[i][j][k_to_set] = 1\n",
        "        \n",
        "  return puzzle\n"
      ],
      "metadata": {
        "id": "HuSUfxuoPjva"
      },
      "execution_count": null,
      "outputs": []
    },
    {
      "cell_type": "code",
      "source": [
        "def run_network(sudoku, size, stability_threshold):\n",
        "  puzzle = network_format(sudoku, size)\n",
        "  neurones = generate_neurones(puzzle, size)\n",
        "  \n",
        "  neurones, stability = step(neurones, size)\n",
        "  neurones, stability = step(neurones, size)\n",
        "\n",
        "  return(readable_format(build_board(neurones, puzzle, size),size))"
      ],
      "metadata": {
        "id": "Xm60RI6mYKOt"
      },
      "execution_count": null,
      "outputs": []
    },
    {
      "cell_type": "code",
      "source": [
        "run_network(easy, 9, 0.5)"
      ],
      "metadata": {
        "colab": {
          "base_uri": "https://localhost:8080/"
        },
        "id": "pklgE-lMZGbs",
        "outputId": "672bfa21-bc98-4fb5-848d-a75a9dc5179c"
      },
      "execution_count": null,
      "outputs": [
        {
          "output_type": "execute_result",
          "data": {
            "text/plain": [
              "[[4, 4, 1, 2, 7, 9, 1, 3, 5],\n",
              " [5, 9, 2, 3, 6, 1, 4, 7, 8],\n",
              " [3, 7, 1, 4, 8, 5, 9, 1, 2],\n",
              " [4, 1, 7, 4, 4, 4, 8, 2, 3],\n",
              " [2, 4, 9, 8, 1, 4, 1, 1, 5],\n",
              " [6, 3, 8, 1, 2, 6, 1, 4, 3],\n",
              " [4, 6, 4, 3, 5, 3, 2, 6, 1],\n",
              " [6, 2, 3, 1, 1, 6, 6, 5, 4],\n",
              " [1, 4, 4, 7, 4, 2, 3, 6, 3]]"
            ]
          },
          "metadata": {},
          "execution_count": 48
        }
      ]
    }
  ]
}