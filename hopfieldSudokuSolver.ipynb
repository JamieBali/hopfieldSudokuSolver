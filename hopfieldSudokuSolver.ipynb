{
  "nbformat": 4,
  "nbformat_minor": 0,
  "metadata": {
    "colab": {
      "name": "hopfieldSudokuSolver",
      "provenance": [],
      "collapsed_sections": [
        "oDLFNw50jOex",
        "t9Ls7DzY0V0e"
      ],
      "authorship_tag": "ABX9TyN16/35hmw3BLEIsieSkURx",
      "include_colab_link": true
    },
    "kernelspec": {
      "name": "python3",
      "display_name": "Python 3"
    },
    "language_info": {
      "name": "python"
    }
  },
  "cells": [
    {
      "cell_type": "markdown",
      "metadata": {
        "id": "view-in-github",
        "colab_type": "text"
      },
      "source": [
        "<a href=\"https://colab.research.google.com/github/JamieBali/hopfieldSudokuSolver/blob/main/hopfieldSudokuSolver.ipynb\" target=\"_parent\"><img src=\"https://colab.research.google.com/assets/colab-badge.svg\" alt=\"Open In Colab\"/></a>"
      ]
    },
    {
      "cell_type": "markdown",
      "metadata": {
        "id": "Klm7k6U6U02z"
      },
      "source": [
        "# Introduction\n",
        "We are creating a Neural Network that can solve Sudoku prolems. We will begin by solving a simpler 4x4 sudoku puzzle as a test to implement the system, before we implement the full 9x9 sudoku. We will figure out how we can extend upon this later.\n",
        "\n",
        "\\> We could vary sizes (eg. 16x16, 25x25)\n",
        "\n",
        "\\> We could vary rules (eg. Knight's Puzzle, King's Puzzle, Killer Sudoku)\n",
        "\n",
        "\\> We could implement other solvers and compare them (eg. Algorithmic Solving, Convultional NN, Feed-Forward NN)"
      ]
    },
    {
      "cell_type": "code",
      "metadata": {
        "id": "w44V2Slqs7kc"
      },
      "source": [
        "import numpy as np\n",
        "import pandas as pd\n",
        "import math\n",
        "import torch\n",
        "import torch.nn as nn\n",
        "\n"
      ],
      "execution_count": null,
      "outputs": []
    },
    {
      "cell_type": "markdown",
      "metadata": {
        "id": "kqCnkikiJrQv"
      },
      "source": [
        "# Setting up the Puzzles\n",
        "\n",
        "A Sudoku puzzle, the way we see it, has a number of square tiles, each of which contains a number from 1 to 9. <br>\n",
        "Our Neural Network, however, needs a binary representation of the grid. We can easily do this by adding a 3rd dimension to the grid. \n",
        "\n",
        "\n",
        "> if $X(i,j) = 0$,  $V(i,j,k) = 0$ for all $k$\n",
        "> \n",
        "> if $X(i,j) = k \\neq 0, V(i,j,k) = 1$\n",
        "\n",
        "(Hopfield, 2008)\n",
        "\n",
        "This means that for our testing grid size (4x4), the size of our 3-dimensional array will be $(4,4,4)$ or $64$.\n",
        "\n",
        "The dataset we will be using has all the Sudoku puzzles in a human-friendly format, so we have created a function below to convert the puzzles into a binary form, anda  second to conver the binary solution back to a readable format."
      ]
    },
    {
      "cell_type": "code",
      "metadata": {
        "id": "ZqF4SmiJJqaJ"
      },
      "source": [
        "def networkFormat(grid, size):\n",
        "  # we need a binary representation of the grid in order to put it through a neural network.\n",
        "  # since we get the data in with integers up to 9 in each slot on the grid, we must construct a binary, 3-dimensional matrix to represent our puzzle.\n",
        "  puzzle = np.zeros((size,size,size))\n",
        "  for x in range(0, size):\n",
        "    for y in range(0,size):\n",
        "      if grid[x][y] != 0:\n",
        "        puzzle[x][y][temp-1] = 1\n",
        "  return puzzle\n",
        "\n",
        "###\n",
        "#\n",
        "# Because of the way lists are actually displayed in python, the grid gets rotated when printed.\n",
        "#\n",
        "# [1,2]                  [1,3]\n",
        "# [3,4]   would become   [2,4]\n",
        "#\n",
        "# we could flip the data, but it shouldn't matter as long as we are consistent.\n",
        "#\n",
        "###\n",
        "\n",
        "def readableFormat(grid, size):\n",
        "  # we also need a function to get the neural network format and turn it back into a readable human format.\n",
        "  grid = np.reshape(grid,(size,size,size))\n",
        "  puzzle = np.zeros((size,size))\n",
        "  for x in range(0, size):\n",
        "    for y in range(0,size):\n",
        "      temp = 0\n",
        "      for k in range(0,size):\n",
        "        if grid[x][y][k] == 1:\n",
        "          temp = k\n",
        "      puzzle[x][y] = temp + 1    # increased by 1 because k begins indexing at 0, not 1\n",
        "  return puzzle"
      ],
      "execution_count": null,
      "outputs": []
    },
    {
      "cell_type": "markdown",
      "metadata": {
        "id": "oDLFNw50jOex"
      },
      "source": [
        "# Creating the Value Function\n",
        "\n",
        "For us to be able to use a hopfield network to solve sudoku, we need to start by constructing a value function which we will optimise. \n",
        "\n",
        "The binary rules of a sudoku solution are:\n",
        "\n",
        "> $V(i,j,k) = 0$ or $1$ for all $i,j,k$\n",
        ">\n",
        "> $\\sum_{i}V(i,j,k) = 1$ for all $j,k$\n",
        ">\n",
        "> $\\sum_{j}V(i,j,k) = 1$ for all $i,k$\n",
        ">\n",
        "> $\\sum_{k}V(i,j,k) = 1$ for all $i,j$\n",
        ">\n",
        "> $\\sum_{i,j}V(i,j,k) = 1$ for all $k$, with the sum on $i$ and $j$ taken over one of the 3x3 $i,j$ squares bounded by thicker lines.\n",
        "\n",
        "(Hopfield, 2008)\n",
        "\n",
        "This means (as according to the rules of sudoku), each row, column, and sqaure can have the numbers 1 through 9 only once, as otherwise it will violate the constraints. Additionally, it is constrained such that each individual square on the board may only contain one number."
      ]
    },
    {
      "cell_type": "code",
      "metadata": {
        "id": "ln25UqaSmCTL"
      },
      "source": [
        "def getGridValue(grid, size):\n",
        "  ###\n",
        "  # as subject to the above constraints, we can get the value of a solution by running a grid through the described sums and accumulating a total value.\n",
        "  # For a completed Sudoku puzzle, the total value should be equal to 4(gridSize^2).\n",
        "  ###\n",
        "  totalSum = 0\n",
        "\n",
        "  # sum across i for all j,k (each number appears in each row once and only once)\n",
        "  # k is equal to the value in the grid - 1, since it begins indexing at 0\n",
        "  for k in range(0,size):\n",
        "    for j in range(0,size): \n",
        "      sum = 0\n",
        "      for i in range(0,size):\n",
        "        sum += grid[i][j][k]\n",
        "      if sum == 1:\n",
        "        totalSum += 1\n",
        "\n",
        "  # if the sum across i is correct, totalSum should now be size^2\n",
        "  # print(\"Optimal: \" + str(size*size) + \" | Actual: \" + str(totalSum))\n",
        "  \n",
        "  # sum across j for all i,k (each number appears in each column once and only once)\n",
        "  # k is equal to the value in the grid - 1, since it begins indexing at 0\n",
        "  for k in range(0,size):\n",
        "    for i in range(0,size): \n",
        "      sum = 0\n",
        "      for j in range(0,size):\n",
        "        sum += grid[i][j][k]\n",
        "      if sum == 1:\n",
        "        totalSum += 1\n",
        "\n",
        "  # if the sum across i is correct, totalSum should now be 2(size^2)\n",
        "  # print(\"Optimal: \" + str(size*size*2) + \" | Actual: \" + str(totalSum))\n",
        "\n",
        "  # sum across k for all i,j (confirms that every tile on the grid contains a number and isn't still 0)\n",
        "  # k is equal to the value in the grid - 1, since it begins indexing at 0\n",
        "  for i in range(0,size):\n",
        "    for j in range(0,size): \n",
        "      sum = 0\n",
        "      for k in range(0,size):\n",
        "        sum += grid[i][j][k]\n",
        "      if sum == 1:\n",
        "        totalSum += 1\n",
        "\n",
        "  # if the sum across i is correct, totalSum should now be 3(size^2)\n",
        "  # print(\"Optimal: \" + str(size*size*3) + \" | Actual: \" + str(totalSum))\n",
        "\n",
        "  # sum across i,j for all k within a sub-grid of dimentions (size x size) (each number appears within each sub-grid once and only once)\n",
        "  # k is equal to the value in the grid - 1, since it begins indexing at 0\n",
        "  temp = int(math.sqrt(size))\n",
        "  for iincrement in range(0,temp):               # this i and j incrementer allows each individual sub-grid to be searched, and allows for easy grid size change\n",
        "    for jincrement in range(0,temp):\n",
        "      for i in range(0,temp):\n",
        "        for j in range(0,temp):\n",
        "          sum = 0\n",
        "          for k in range(0, size):\n",
        "            sum += grid[i + (iincrement*temp)][j+(jincrement*temp)][k]\n",
        "          if sum == 1:\n",
        "            totalSum += 1\n",
        "\n",
        "  # if the sum across i is correct, totalSum should now be 4(size^2)\n",
        "  # print(\"Optimal: \" + str(size*size*4) + \" | Actual: \" + str(totalSum))"
      ],
      "execution_count": null,
      "outputs": []
    },
    {
      "cell_type": "markdown",
      "metadata": {
        "id": "t9Ls7DzY0V0e"
      },
      "source": [
        "# Testing The Value and Formatting Functions "
      ]
    },
    {
      "cell_type": "code",
      "metadata": {
        "id": "dUpYXcwkjCkh"
      },
      "source": [
        "# test the above constraints with two solved sudoku of different sizes\n",
        "\n",
        "twobytwo = [[3,1,4,2],\n",
        "            [4,2,3,1],\n",
        "            [1,4,2,3],\n",
        "            [2,3,1,4]]\n",
        "\n",
        "tbtFormatted = networkFormat(twobytwo, 4)\n",
        "\n",
        "print(tbtFormatted)\n",
        "\n",
        "getGridValue(tbtFormatted, 4)\n",
        "\n",
        "print(readableFormat(tbtFormatted, 4))\n",
        "\n",
        "\n",
        "\n",
        "#print (\" ~ ~ ~ \")\n",
        "\n",
        "#threebythree = [[2,1,6,9,3,8,4,5,7],\n",
        "#                [9,5,4,7,6,2,8,3,1],\n",
        "#                [3,7,8,5,1,4,2,6,9],\n",
        "#                [6,8,2,1,9,5,3,7,4],\n",
        "#                [7,3,5,4,2,6,1,9,8],\n",
        "#                [4,9,1,8,7,3,6,2,5],\n",
        "#                [8,2,9,6,5,1,7,4,3],\n",
        "#                [1,6,7,3,4,9,5,8,2],\n",
        "#                [5,4,3,2,8,7,9,1,6]]\n",
        "\n",
        "#getGridValue(threebythree, 9)"
      ],
      "execution_count": null,
      "outputs": []
    },
    {
      "cell_type": "code",
      "metadata": {
        "id": "_NP1anS3pazB"
      },
      "source": [
        "# deomsntrate increment as problem becomes more solved\n",
        "\n",
        "twobytwo = [[0,1,0,0],[4,2,0,0],[0,0,2,0],[0,3,0,0]]\n",
        "\n",
        "getGridValue(networkFormat(twobytwo, 4), 4)\n",
        "\n",
        "print (\" ~ ~ ~ \")\n",
        "\n",
        "twobytwo = [[3,1,0,0],[4,2,0,0],[0,0,2,0],[0,3,0,0]]\n",
        "\n",
        "getGridValue(networkFormat(twobytwo, 4), 4)\n",
        "\n",
        "print (\" ~ ~ ~ \")\n",
        "\n",
        "twobytwo = [[3,1,0,0],[4,2,0,0],[0,4,2,0],[0,3,0,0]]\n",
        "\n",
        "getGridValue(networkFormat(twobytwo, 4), 4)"
      ],
      "execution_count": null,
      "outputs": []
    },
    {
      "cell_type": "code",
      "metadata": {
        "id": "o6DWt3gg0VJu"
      },
      "source": [
        "# and lastly we will test an incorrectly solved puzzle\n",
        "\n",
        "twobytwo = [[3,1,4,4], #this line is incorrect. It should be 3,1,4,2. This violates the rules of sudoku and should give us a sub-optimal value. (expcted 60 since it violates all 4 rules.)\n",
        "            [4,2,3,1],\n",
        "            [1,4,2,3],\n",
        "            [2,3,1,4]]\n",
        "\n",
        "getGridValue(networkFormat(twobytwo,4),4)"
      ],
      "execution_count": null,
      "outputs": []
    },
    {
      "cell_type": "markdown",
      "metadata": {
        "id": "KEKUudx3Y5Qp"
      },
      "source": [
        "# Creating The Network\n",
        "\n",
        "We will be creating a Hopfield Neural Network to solve our puzzles.\n",
        "\n",
        "A Hopfield Neural Network is a continuous, single-layer neural network in which all neurones connect to all other neurones symetrically."
      ]
    },
    {
      "cell_type": "code",
      "metadata": {
        "id": "aWrIPF-ZY9sR",
        "colab": {
          "base_uri": "https://localhost:8080/"
        },
        "outputId": "a283fb80-99dc-4135-9a01-01bee739c5c5"
      },
      "source": [
        "###\n",
        "#\n",
        "# we will construct this network so it can be size adapted.\n",
        "# since we initially want to solve a 4x4 sudoku, we will focus on this first.\n",
        "#\n",
        "##\n",
        "def createNetwork(grid, size):\n",
        "  \n",
        "  # first we must construct the neurones\n",
        "  # we've already made a network formatter, so we just need to flatten the binary \n",
        "  # puzzle into its respective neurones.\n",
        "  neurones = torch.flatten(networkFormat(grid,size))\n",
        "\n",
        "  # next we need to construct weights\n",
        "  # the initial weights of the network will be randomly chosen for now, but need\n",
        "  # to remain symetric.\n",
        "\n",
        "\n",
        "\n",
        "###\n",
        "#\n",
        "# Next we will construct a step function which runs a single matrix multiplication step,\n",
        "# divides by 8, and then performs the logsig function. These are the steps described in \n",
        "# the paper \"Solving Suidoku Puzzles by using Hopfield Neural Networks\" (Mladenov, 2011).\n",
        "#\n",
        "# We have created a bespoke step function as opposed to using the one provided by PyTorch\n",
        "# as this allows us to add different rules. We want each neurone to connect to all neurones\n",
        "# except itself, and we want additional processing on the results for each neurone.\n",
        "#\n",
        "##\n",
        "def step(neurones, weights):\n",
        "  \n",
        "\n",
        "createNetwork(twobytwo,4)"
      ],
      "execution_count": null,
      "outputs": [
        {
          "output_type": "stream",
          "name": "stdout",
          "text": [
            "tensor([0., 0., 1., 0., 1., 0., 0., 0., 0., 0., 0., 1., 0., 1., 0., 0., 0., 0.,\n",
            "        0., 1., 0., 1., 0., 0., 0., 0., 1., 0., 1., 0., 0., 0., 1., 0., 0., 0.,\n",
            "        0., 0., 0., 1., 0., 1., 0., 0., 0., 0., 1., 0., 0., 1., 0., 0., 0., 0.,\n",
            "        1., 0., 1., 0., 0., 0., 0., 0., 0., 1.], dtype=torch.float64)\n"
          ]
        }
      ]
    }
  ]
}