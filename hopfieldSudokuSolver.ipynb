{
  "nbformat": 4,
  "nbformat_minor": 0,
  "metadata": {
    "colab": {
      "name": "hopfieldSudokuSolver",
      "provenance": [],
      "collapsed_sections": [
        "oDLFNw50jOex",
        "t9Ls7DzY0V0e"
      ],
      "authorship_tag": "ABX9TyMKAVXOJsGPxyqM4BB1kZ3n",
      "include_colab_link": true
    },
    "kernelspec": {
      "name": "python3",
      "display_name": "Python 3"
    },
    "language_info": {
      "name": "python"
    }
  },
  "cells": [
    {
      "cell_type": "markdown",
      "metadata": {
        "id": "view-in-github",
        "colab_type": "text"
      },
      "source": [
        "<a href=\"https://colab.research.google.com/github/JamieBali/hopfieldSudokuSolver/blob/main/hopfieldSudokuSolver.ipynb\" target=\"_parent\"><img src=\"https://colab.research.google.com/assets/colab-badge.svg\" alt=\"Open In Colab\"/></a>"
      ]
    },
    {
      "cell_type": "markdown",
      "metadata": {
        "id": "Klm7k6U6U02z"
      },
      "source": [
        "# Introduction\n",
        "We are creating a Neural Network that can solve Sudoku prolems. We will begin by solving a simpler 4x4 sudoku puzzle as a test to implement the system, before we implement the full 9x9 sudoku. We will figure out how we can extend upon this later.\n",
        "\n",
        "\\> We could vary sizes (eg. 16x16, 25x25)\n",
        "\n",
        "\\> We could vary rules (eg. Knight's Puzzle, King's Puzzle, Killer Sudoku)\n",
        "\n",
        "\\> We could implement other solvers and compare them (eg. Algorithmic Solving, Convultional NN, Feed-Forward NN)"
      ]
    },
    {
      "cell_type": "code",
      "metadata": {
        "id": "w44V2Slqs7kc"
      },
      "source": [
        "import numpy as np\n",
        "import pandas as pd\n",
        "import math\n",
        "import torch\n",
        "import torch.nn as nn\n",
        "\n"
      ],
      "execution_count": null,
      "outputs": []
    },
    {
      "cell_type": "markdown",
      "metadata": {
        "id": "kqCnkikiJrQv"
      },
      "source": [
        "# Setting up the Puzzles\n",
        "\n",
        "A Sudoku puzzle, the way we see it, has a number of square tiles, each of which contains a number from 1 to 9. <br>\n",
        "Our Neural Network, however, needs a binary representation of the grid. We can easily do this by adding a 3rd dimension to the grid. \n",
        "\n",
        "\n",
        "> if $X(i,j) = 0$,  $V(i,j,k) = 0$ for all $k$\n",
        "> \n",
        "> if $X(i,j) = k \\neq 0, V(i,j,k) = 1$\n",
        "\n",
        "(Hopfield, 2008)\n",
        "\n",
        "This means that for our testing grid size (4x4), the size of our 3-dimensional array will be $(4,4,4)$ or $64$.\n",
        "\n",
        "The dataset we will be using has all the Sudoku puzzles in a human-friendly format, so we have created a function below to convert the puzzles into a binary form, anda  second to conver the binary solution back to a readable format."
      ]
    },
    {
      "cell_type": "code",
      "metadata": {
        "id": "ZqF4SmiJJqaJ"
      },
      "source": [
        "def networkFormat(grid, size):\n",
        "  # we need a binary representation of the grid in order to put it through a neural network.\n",
        "  # since we get the data in with integers up to 9 in each slot on the grid, we must construct a binary, 3-dimensional matrix to represent our puzzle.\n",
        "  puzzle = np.zeros((size,size,size))\n",
        "  for x in range(0, size):\n",
        "    for y in range(0,size):\n",
        "      if grid[x][y] != 0:\n",
        "        temp = int(grid[x][y])\n",
        "        puzzle[x][y][temp-1] = 1\n",
        "  return puzzle\n",
        "\n",
        "###\n",
        "#\n",
        "# Because of the way lists are actually displayed in python, the grid gets rotated when printed.\n",
        "#\n",
        "# [1,2]                  [1,3]\n",
        "# [3,4]   would become   [2,4]\n",
        "#\n",
        "# we could flip the data, but it shouldn't matter as long as we are consistent.\n",
        "#\n",
        "###\n",
        "\n",
        "def readableFormat(grid, size):\n",
        "  # we also need a function to get the neural network format and turn it back into a readable human format.\n",
        "  grid = torch.reshape(grid,(size,size,size))\n",
        "  puzzle = np.zeros((size,size))\n",
        "  for x in range(0, size):\n",
        "    for y in range(0,size):\n",
        "      temp = 0\n",
        "      found = False\n",
        "      for k in range(0,size):\n",
        "        if grid[x][y][k] == 1:\n",
        "          found = True\n",
        "          temp = int(k)\n",
        "      if found:\n",
        "        puzzle[x][y] = temp + 1  \n",
        "      else:\n",
        "        puzzle[x][y] = 0\n",
        "  return puzzle"
      ],
      "execution_count": null,
      "outputs": []
    },
    {
      "cell_type": "markdown",
      "metadata": {
        "id": "oDLFNw50jOex"
      },
      "source": [
        "# Creating the Energy Function\n",
        "\n",
        "For us to be able to use a hopfield network to solve sudoku, we need to start by constructing an energy function which we will minimise. \n",
        "\n",
        "The binary rules of a sudoku solution are:\n",
        "\n",
        "> $V(i,j,k) = 0$ or $1$ for all $i,j,k$\n",
        ">\n",
        "> $\\sum_{i}V(i,j,k) = 1$ for all $j,k$\n",
        ">\n",
        "> $\\sum_{j}V(i,j,k) = 1$ for all $i,k$\n",
        ">\n",
        "> $\\sum_{k}V(i,j,k) = 1$ for all $i,j$\n",
        ">\n",
        "> $\\sum_{i,j}V(i,j,k) = 1$ for all $k$, with the sum on $i$ and $j$ taken over one of the 3x3 $i,j$ squares bounded by thicker lines.\n",
        "\n",
        "(Hopfield, 2008)\n",
        "\n",
        "This means (as according to the rules of sudoku), each row, column, and sqaure can have the numbers 1 through 9 only once, as otherwise it will violate the constraints. Additionally, it is constrained such that each individual square on the board may only contain one number."
      ]
    },
    {
      "cell_type": "code",
      "metadata": {
        "id": "ln25UqaSmCTL"
      },
      "source": [
        "def getGridValue(grid, size):\n",
        "  ###\n",
        "  # as subject to the above constraints, we can get the value of a solution by running a grid through the described sums and accumulating a total value.\n",
        "  # For a completed Sudoku puzzle, the total value should be equal to 4(gridSize^2).\n",
        "  ###\n",
        "  totalSum = 0\n",
        "\n",
        "  # sum across i for all j,k (each number appears in each row once and only once)\n",
        "  # k is equal to the value in the grid - 1, since it begins indexing at 0\n",
        "  for k in range(0,size):\n",
        "    for j in range(0,size): \n",
        "      sum = 0\n",
        "      for i in range(0,size):\n",
        "        sum += int(grid[i][j][k])\n",
        "      if sum == 1:\n",
        "        totalSum += 1\n",
        "\n",
        "  # if the sum across i is correct, totalSum should now be size^2\n",
        "  # print(\"Optimal: \" + str(size*size) + \" | Actual: \" + str(totalSum))\n",
        "  \n",
        "  # sum across j for all i,k (each number appears in each column once and only once)\n",
        "  # k is equal to the value in the grid - 1, since it begins indexing at 0\n",
        "  for k in range(0,size):\n",
        "    for i in range(0,size): \n",
        "      sum = 0\n",
        "      for j in range(0,size):\n",
        "        sum += int(grid[i][j][k])\n",
        "      if sum == 1:\n",
        "        totalSum += 1\n",
        "\n",
        "  # if the sum across i is correct, totalSum should now be 2(size^2)\n",
        "  # print(\"Optimal: \" + str(size*size*2) + \" | Actual: \" + str(totalSum))\n",
        "\n",
        "  # sum across k for all i,j (confirms that every tile on the grid contains a number and isn't still 0)\n",
        "  # k is equal to the value in the grid - 1, since it begins indexing at 0\n",
        "  for i in range(0,size):\n",
        "    for j in range(0,size): \n",
        "      sum = 0\n",
        "      for k in range(0,size):\n",
        "        sum += int(grid[i][j][k])\n",
        "      if sum == 1:\n",
        "        totalSum += 1\n",
        "\n",
        "  # if the sum across i is correct, totalSum should now be 3(size^2)\n",
        "  # print(\"Optimal: \" + str(size*size*3) + \" | Actual: \" + str(totalSum))\n",
        "\n",
        "  # sum across i,j for all k within a sub-grid of dimentions (size x size) (each number appears within each sub-grid once and only once)\n",
        "  # k is equal to the value in the grid - 1, since it begins indexing at 0\n",
        "  temp = int(math.sqrt(size))\n",
        "  for iincrement in range(0,temp):               # this i and j incrementer allows each individual sub-grid to be searched, and allows for easy grid size change\n",
        "    for jincrement in range(0,temp):\n",
        "      for i in range(0,temp):\n",
        "        for j in range(0,temp):\n",
        "          sum = 0\n",
        "          for k in range(0, size):\n",
        "            sum += int(grid[i + (iincrement*temp)][j+(jincrement*temp)][k])\n",
        "          if sum == 1:\n",
        "            totalSum += 1\n",
        "\n",
        "  # if the sum across i is correct, totalSum should now be 4(size^2)\n",
        "  print(\"Optimal: \" + str(size*size*4) + \" | Actual: \" + str(totalSum))"
      ],
      "execution_count": null,
      "outputs": []
    },
    {
      "cell_type": "markdown",
      "metadata": {
        "id": "KEKUudx3Y5Qp"
      },
      "source": [
        "# Creating The Network\n",
        "\n",
        "We will be creating a Hopfield Neural Network to solve our puzzles.\n",
        "\n",
        "A Hopfield Neural Network is a continuous, single-layer neural network in which all neurones connect to all other neurones symetrically."
      ]
    },
    {
      "cell_type": "code",
      "metadata": {
        "id": "aWrIPF-ZY9sR"
      },
      "source": [
        "###\n",
        "#\n",
        "# we will construct this network so it can be size adapted.\n",
        "# since we initially want to solve a 4x4 sudoku, we will focus on this first.\n",
        "#\n",
        "##\n",
        "def createNetwork(grid, size, alpha):\n",
        "  \n",
        "  # first we must construct the neurones\n",
        "  # we've already made a network formatter, so we just need to flatten the binary \n",
        "  # puzzle into its respective neurones.\n",
        "  neurones = torch.flatten(torch.tensor(networkFormat(grid,size)))\n",
        "\n",
        "  # next we need to construct weights\n",
        "  # the weights of the hopfield network must be symetric, meaning w_ij == w_ji and w_ii == 0\n",
        "  # the initial weights of the network can be generated by converting the network into a Lyapunov function.\n",
        "  # The energy function in Lyapunov form is shown below\n",
        "  # \n",
        "  # E = -Σ(V(i,j,k)+αΣV(i,j,k).V(i`,j`,k`)\n",
        "  #\n",
        "  # We can use this energy function to calculate the required weights of the network.\n",
        "  # Since we want to inhibit activation where the values would conflict, we can need to construct the\n",
        "  # weights based on the rules of sudoku\n",
        "  weights = []\n",
        "  for x in range(0,len(neurones)):\n",
        "    temp = np.zeros(len(neurones))\n",
        "\n",
        "    # rule 1, each tile may only contain one number\n",
        "    # this is performed dynamically across each level of the weights matrix                                     ############### THIS IS COMMENTED OUT REMEMBER TO UNCOMMENT THIS!!!\n",
        "    holder = math.floor(x/size)           # to find which tile of the grid we're on\n",
        "    for y in range(0,size):               # for each neurone representing a possible number on that tile\n",
        "      temp[(holder*size) + y] = -alpha        # we inhibit response from the respective neurone\n",
        "    \n",
        "    # rule 2, each row may only contain each number once\n",
        "    # this, too, is performed dynamically so we can vary the size of the grid later\n",
        "    holder = math.floor(x/(size**2))            # to find which row we're on\n",
        "    holder = (holder * (size**2)) + (x % size)  # modulus of x by size tells us which number we're looking for.\n",
        "    for y in range(0,size):                   # for each tile in that row\n",
        "      temp[holder+(size*y)] = -alpha                # inhibit the response from the respective neurones\n",
        "\n",
        "    # rule 3, each column may only contain each number once\n",
        "    # the process for this rule is easier\n",
        "    holder = x % (size**2)          # find the value on row 0 for the respective number\n",
        "    for y in range(0,size):       # for each row\n",
        "      temp[holder+((size**2)*y)] = -alpha    # inhibit the respective number in that column\n",
        "\n",
        "    # rule 4, each sub-grid may only contain each number once\n",
        "    # this is the most complex one\n",
        "    s = math.sqrt(size)\n",
        "    c = math.floor(x/(s**3))%s         # this gives the neuron a column index from 0 to size-1\n",
        "    r = size * (math.floor(x/(s**5)))  # this gives the neuron a row index from 0 to 2(size)\n",
        "    ind = (s**3)*(c+r)                 # this gives is the index of the neuron in the top-left corner of that sub-grid\n",
        "    holder = int(ind + (x%size))            # lastly we get the holder of the top-left index with the depth of the number\n",
        "    for y in range(0,int(s)):\n",
        "      temp[holder + (y*size)] = -alpha\n",
        "      for z in range(1,int(s)):\n",
        "        temp[holder + (y*size) + (z*(size**2))] = -alpha\n",
        "\n",
        "    #for y in range(0, len(temp)):\n",
        "    #  if temp[y] == 0:\n",
        "    #    temp[y] = 1\n",
        "\n",
        "    temp[x] = 0\n",
        "    weights.append(temp)\n",
        "\n",
        "  return neurones, torch.tensor(weights), neurones\n",
        "\n",
        "def activate(param):\n",
        "  if param < 0:\n",
        "    return 0\n",
        "  else:\n",
        "    return 1\n",
        "\n",
        "\n",
        "###\n",
        "#\n",
        "# Next we will construct a step function which runs a single matrix multiplication step,\n",
        "# divides by 8, and then performs the logsig function. These are the steps described in \n",
        "# the paper \"Solving Suidoku Puzzles by using Hopfield Neural Networks\" (Mladenov, 2011).\n",
        "#\n",
        "# We have created a bespoke step function as opposed to using the one provided by PyTorch\n",
        "# as this allows us to add different rules. We want each neurone to connect to all neurones\n",
        "# except itself, and we want additional processing on the results for each neurone.\n",
        "#\n",
        "##\n",
        "def step(neurones, weights, theta, size):\n",
        "  # weights = nn.Parameter(weights)\n",
        "  # neurones = torch.unsqueeze(neurones,-1)\n",
        "  # neurones = torch.mm(weights, neurones) # the weights matrix has an index of 0s diagonally, so the neurones will not get input into themselves\n",
        "  # for x in range(0,len(neurones)):\n",
        "  #   neurones[x] = activate(neurones[x])\n",
        "\n",
        "  for x in range(0, len(neurones)):\n",
        "    neurones[x] = activate(torch.sum(torch.mul(neurones,weights[x])))\n",
        "    #if x % size == 0:\n",
        "      #neurones = removeDuplicates(neurones, size)\n",
        "\n",
        "  # lastly, before returning the neurones, we have to reapply the theta values.\n",
        "  # these theta values \n",
        "  for x in range(0, len(theta)):\n",
        "    if theta[x] == 1:\n",
        "      neurones[x] = 1\n",
        "  neurones = torch.reshape(neurones,(1,len(theta)))\n",
        "  return neurones[0]"
      ],
      "execution_count": null,
      "outputs": []
    },
    {
      "cell_type": "markdown",
      "metadata": {
        "id": "ecta7s1WxxBU"
      },
      "source": [
        "# Testing\n",
        "\n",
        "We'll begin by testing the algorithm on a 4x4 puzzle.\n",
        "These are much easier puzzles, meaning it is a good starting point to prove the network is able to solve the puzzles.\n",
        "\n",
        "We will then move on to testing a few 9x9 grids of varying difficulty."
      ]
    },
    {
      "cell_type": "code",
      "metadata": {
        "colab": {
          "base_uri": "https://localhost:8080/"
        },
        "id": "2OJntIDQrKtt",
        "outputId": "c2150775-702c-42e8-fee3-7ff475803bbf"
      },
      "source": [
        "## \n",
        "#\n",
        "# 4x4 test\n",
        "# We have 5 epochs running for this, despite the fact it should be able to solve all puzzles withing 1 or 2.\n",
        "#\n",
        "##\n",
        "\n",
        "puzzle = [[3,0,0,0],\n",
        "          [0,1,0,2],\n",
        "          [0,0,0,0],\n",
        "          [0,0,1,0]]\n",
        "\n",
        "getGridValue(networkFormat(puzzle,4),4)\n",
        "\n",
        "neurones, weights, theta = createNetwork(puzzle, 4, 40)\n",
        "\n",
        "print(theta)\n",
        "\n",
        "# print(neurones)\n",
        "# print(readableFormat(neurones, 4))\n",
        "\n",
        "for x in range(0,1):\n",
        "  neurones = step(neurones, weights, theta, 4)\n",
        "  getGridValue(neurones.detach().numpy().reshape((4,4,4)),4)\n",
        "  print(readableFormat(neurones, 4))\n",
        "  "
      ],
      "execution_count": null,
      "outputs": [
        {
          "output_type": "stream",
          "name": "stdout",
          "text": [
            "Optimal: 64 | Actual: 16\n",
            "tensor([0., 0., 1., 0., 0., 0., 0., 0., 0., 0., 0., 0., 0., 0., 0., 0., 0., 0.,\n",
            "        0., 0., 1., 0., 0., 0., 0., 0., 0., 0., 0., 1., 0., 0., 0., 0., 0., 0.,\n",
            "        0., 0., 0., 0., 0., 0., 0., 0., 0., 0., 0., 0., 0., 0., 0., 0., 0., 0.,\n",
            "        0., 0., 1., 0., 0., 0., 0., 0., 0., 0.], dtype=torch.float64)\n",
            "Optimal: 64 | Actual: 64\n",
            "[[3. 2. 4. 1.]\n",
            " [4. 1. 3. 2.]\n",
            " [1. 3. 2. 4.]\n",
            " [2. 4. 1. 3.]]\n"
          ]
        }
      ]
    },
    {
      "cell_type": "code",
      "metadata": {
        "colab": {
          "base_uri": "https://localhost:8080/"
        },
        "id": "wiKBL8ev0V10",
        "outputId": "9e647e48-876a-429f-cb20-1d7a145d1cc6"
      },
      "source": [
        "## \n",
        "#\n",
        "# 9x9 test\n",
        "#\n",
        "##\n",
        "\n",
        "# solved -  so we can reverse the solution and check all the functions work correctly (286 from expert star sudoku)\n",
        "# solved = [[2,1,6,3,7,8,4,5,9],[8,5,4,2,9,1,6,3,7],[9,7,3,4,5,6,8,1,2],[7,8,1,5,6,2,3,9,4],[5,3,2,9,4,7,1,8,6],[4,6,9,1,8,3,2,7,5],[6,2,8,7,3,5,9,4,1],[1,4,5,8,2,9,7,6,3],[3,9,7,6,1,4,5,2,8]]\n",
        "\n",
        "# this puzzle was taken from the paper i am following. (V. Mladenov et al.)\n",
        "paper = [[0,0,0,9,5,7,0,0,0],[7,6,0,0,0,0,0,1,0],[8,0,5,0,0,6,0,2,0],[3,0,9,0,4,0,0,0,0],[0,0,8,0,0,0,1,0,0],[0,0,0,0,2,0,5,0,6],[0,8,0,1,0,0,6,0,4],[0,3,0,0,0,0,0,7,1],[0,0,0,4,3,2,0,0,0]]\n",
        "\n",
        "# these three were taken randomly from sudoku.com\n",
        "easy = [[0,0,0,0,7,9,0,3,0],[5,0,2,0,6,1,4,7,8],[3,7,6,0,8,5,9,0,2],[0,1,7,5,0,0,8,0,0],[2,0,9,8,3,0,0,0,0],[0,0,0,0,2,0,0,4,0],[0,0,0,0,5,0,2,0,1],[0,2,3,0,0,0,0,5,4],[1,0,0,7,0,0,0,0,0]]\n",
        "medium = [[0,3,1,0,5,0,0,2,0],[0,0,0,0,0,2,9,0,5],[2,0,0,0,1,0,0,0,0],[3,5,0,0,9,0,0,7,0],[7,0,0,5,0,0,0,4,0],[0,1,0,7,0,3,2,0,0],[1,2,6,3,0,0,0,0,0],[0,9,0,8,0,5,0,0,0],[5,0,0,0,2,0,7,0,0]]\n",
        "hard = [[0,4,0,0,0,5,0,6,0],[0,0,5,4,2,0,0,0,0],[0,0,1,6,0,3,5,0,4],[0,0,0,0,0,0,7,0,0],[0,3,7,0,0,0,0,1,0],[9,0,0,0,0,4,3,5,0],[0,0,4,2,5,0,0,0,0],[0,0,0,0,0,0,0,7,6],[6,0,9,0,7,0,0,0,5]]\n",
        "\n",
        "# this puzzle is taken from \"expert star sudoku,\" a book of level 6 sudoku.\n",
        "expert = [[0,0,0,0,1,0,0,0,0],[0,9,0,0,0,5,0,0,0],[5,0,0,0,7,6,0,0,0],[0,0,4,0,0,0,2,7,0],[0,2,0,0,0,0,5,0,9],[0,7,0,8,0,0,0,0,0],[0,0,1,0,0,3,0,0,0],[6,0,0,1,2,0,0,8,0],[7,8,0,0,0,0,9,0,0]]\n",
        "\n",
        "getGridValue(networkFormat(easy,9),9)\n",
        "\n",
        "neurones, weights, theta = createNetwork(easy, 9, 2)\n",
        "\n",
        "print(readableFormat(neurones, 9))\n",
        "\n",
        "for x in range(0,2):\n",
        "  neurones = step(neurones, weights, theta, 9)\n",
        "  getGridValue(neurones.detach().numpy().reshape((9,9,9)),9)\n",
        "  print(readableFormat(neurones, 9))\n",
        "  "
      ],
      "execution_count": null,
      "outputs": [
        {
          "output_type": "stream",
          "name": "stdout",
          "text": [
            "Optimal: 324 | Actual: 144\n",
            "[[0. 0. 0. 0. 7. 9. 0. 3. 0.]\n",
            " [5. 0. 2. 0. 6. 1. 4. 7. 8.]\n",
            " [3. 7. 6. 0. 8. 5. 9. 0. 2.]\n",
            " [0. 1. 7. 5. 0. 0. 8. 0. 0.]\n",
            " [2. 0. 9. 8. 3. 0. 0. 0. 0.]\n",
            " [0. 0. 0. 0. 2. 0. 0. 4. 0.]\n",
            " [0. 0. 0. 0. 5. 0. 2. 0. 1.]\n",
            " [0. 2. 3. 0. 0. 0. 0. 5. 4.]\n",
            " [1. 0. 0. 7. 0. 0. 0. 0. 0.]]\n",
            "Optimal: 324 | Actual: 308\n",
            "[[4. 8. 1. 2. 7. 9. 5. 3. 6.]\n",
            " [5. 9. 2. 3. 6. 1. 4. 7. 8.]\n",
            " [3. 7. 6. 4. 8. 5. 9. 1. 2.]\n",
            " [6. 1. 7. 5. 4. 0. 8. 2. 3.]\n",
            " [2. 4. 9. 8. 3. 6. 1. 0. 5.]\n",
            " [8. 3. 5. 1. 2. 7. 6. 4. 9.]\n",
            " [7. 6. 4. 9. 5. 3. 2. 8. 1.]\n",
            " [9. 2. 3. 6. 1. 8. 7. 5. 4.]\n",
            " [1. 5. 8. 7. 0. 2. 3. 6. 0.]]\n",
            "Optimal: 324 | Actual: 308\n",
            "[[4. 8. 1. 2. 7. 9. 5. 3. 6.]\n",
            " [5. 9. 2. 3. 6. 1. 4. 7. 8.]\n",
            " [3. 7. 6. 4. 8. 5. 9. 1. 2.]\n",
            " [6. 1. 7. 5. 4. 0. 8. 2. 3.]\n",
            " [2. 4. 9. 8. 3. 6. 1. 0. 5.]\n",
            " [8. 3. 5. 1. 2. 7. 6. 4. 9.]\n",
            " [7. 6. 4. 9. 5. 3. 2. 8. 1.]\n",
            " [9. 2. 3. 6. 1. 8. 7. 5. 4.]\n",
            " [1. 5. 8. 7. 0. 2. 3. 6. 0.]]\n"
          ]
        }
      ]
    }
  ]
}