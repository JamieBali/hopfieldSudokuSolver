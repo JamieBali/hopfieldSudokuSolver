{
  "nbformat": 4,
  "nbformat_minor": 0,
  "metadata": {
    "colab": {
      "name": "WFC_Sudoku_Solver",
      "provenance": [],
      "collapsed_sections": [],
      "authorship_tag": "ABX9TyOSuAVNWrgscVWAa9MfIIR8",
      "include_colab_link": true
    },
    "kernelspec": {
      "name": "python3",
      "display_name": "Python 3"
    },
    "language_info": {
      "name": "python"
    },
    "accelerator": "GPU"
  },
  "cells": [
    {
      "cell_type": "markdown",
      "metadata": {
        "id": "view-in-github",
        "colab_type": "text"
      },
      "source": [
        "<a href=\"https://colab.research.google.com/github/JamieBali/sudoku/blob/main/WFC_Sudoku_Solver.ipynb\" target=\"_parent\"><img src=\"https://colab.research.google.com/assets/colab-badge.svg\" alt=\"Open In Colab\"/></a>"
      ]
    },
    {
      "cell_type": "markdown",
      "source": [
        "# Imports"
      ],
      "metadata": {
        "id": "MVdENXIxVomK"
      }
    },
    {
      "cell_type": "code",
      "execution_count": null,
      "metadata": {
        "id": "qvYZc5Z2VlAN"
      },
      "outputs": [],
      "source": [
        "import numpy as np\n",
        "import random\n",
        "import math\n",
        "import tensorflow as tf"
      ]
    },
    {
      "cell_type": "markdown",
      "source": [
        "# Data"
      ],
      "metadata": {
        "id": "AFpRZwSzVuxn"
      }
    },
    {
      "cell_type": "code",
      "source": [
        "trivial = [[8,9,1,2,7,0,5,6,3],[6,0,3,1,8,5,9,0,0],[4,5,7,6,3,9,0,0,2],[5,0,6,4,1,7,2,3,0],[7,0,2,9,0,3,8,1,6],[3,1,0,0,2,6,0,5,4],[9,3,8,5,4,0,6,7,0],[1,6,4,0,9,0,3,2,5],[0,7,5,3,6,1,4,9,8]]\n",
        "\n",
        "# this is a very simple 4x4 sudoku from sudoku.com\n",
        "four = [[0,3,4,0],[4,0,0,2],[1,0,0,3],[0,2,1,0]]\n",
        "\n",
        "# these three were taken randomly from sudoku.com\n",
        "easy = [[0,0,0,0,7,9,0,3,0],[5,0,2,0,6,1,4,7,8],[3,7,6,0,8,5,9,0,2],[0,1,7,5,0,0,8,0,0],[2,0,9,8,3,0,0,0,0],[0,0,0,0,2,0,0,4,0],[0,0,0,0,5,0,2,0,1],[0,2,3,0,0,0,0,5,4],[1,0,0,7,0,0,0,0,0]]\n",
        "medium = [[0,3,1,0,5,0,0,2,0],[0,0,0,0,0,2,9,0,5],[2,0,0,0,1,0,0,0,0],[3,5,0,0,9,0,0,7,0],[7,0,0,5,0,0,0,4,0],[0,1,0,7,0,3,2,0,0],[1,2,6,3,0,0,0,0,0],[0,9,0,8,0,5,0,0,0],[5,0,0,0,2,0,7,0,0]]\n",
        "hard = [[0,4,0,0,0,5,0,6,0],[0,0,5,4,2,0,0,0,0],[0,0,1,6,0,3,5,0,4],[0,0,0,0,0,0,7,0,0],[0,3,7,0,0,0,0,1,0],[9,0,0,0,0,4,3,5,0],[0,0,4,2,5,0,0,0,0],[0,0,0,0,0,0,0,7,6],[6,0,9,0,7,0,0,0,5]]\n",
        "\n",
        "# this is a 25x25 sudoku taken from an old c programming forum in from 2006 https://cboard.cprogramming.com/cplusplus-programming/117005-25x25-sudoku.html\n",
        "twentyfive = [[0,0,12,6,0,0,7,0,18,0,5,24,0,10,1,0,0,4,0,0,0,0,0,0,0], [2,0,19,0,13,0,0,0,10,0,0,0,0,0,0,0,0,18,5,0,0,0,0,0,1], [0,0,0,0,0,0,0,22,0,0,0,0,3,0,2,0,0,14,12,0,16,8,25,0,0],[0,16,0,0,0,2,23,0,0,13,12,22,0,0,0,21,15,19,3,0,0,0,0,14,0],[23,0,24,0,0,0,0,0,25,8,4,0,16,19,21,0,0,7,0,0,0,3,12,0,9],[0,4,0,2,0,0,0,0,0,0,0,10,0,24,12,17,16,0,0,0,5,0,0,0,0],[0,0,9,0,0,6,25,0,0,0,8,0,5,3,0,0,0,0,0,0,20,0,0,18,19],[15,0,10,11,0,0,0,18,12,19,0,0,0,0,0,0,0,23,0,0,7,0,0,4,0], [0,0,0,0,0,0,0,14,0,22,0,0,18,16,20,0,6,11,13,0,0,0,0,0,0], [0,22,0,25,0,0,1,17,5,4,7,0,0,14,0,8,3,21,0,0,11,0,0,0,6], [0,20,13,15,0,0,0,0,0,0,9,0,0,2,0,25,0,1,8,0,0,5,0,21,0], [0,1,0,0,0,0,16,10,0,7,0,0,4,20,0,0,9,0,0,14,0,24,0,17,0], [25,2,5,0,0,0,0,0,13,0,0,0,0,0,22,0,0,0,0,0,19,1,8,0,0], [0,0,7,21,0,0,12,0,2,17,0,0,0,18,6,16,0,0,15,0,0,13,0,10,0], [8,10,18,12,16,9,0,0,0,5,0,0,0,0,19,0,0,17,0,21,0,15,0,0,22], [0,8,0,0,15,0,3,0,6,0,21,0,0,7,0,18,14,5,0,1,0,0,0,0,0], [0,0,0,19,0,1,0,16,11,0,0,0,10,22,25,15,0,0,0,0,0,0,21,0,0], [0,3,1,0,21,0,0,4,0,0,0,0,2,0,13,0,24,25,0,0,14,0,0,6,0], [0,0,0,0,0,0,0,15,0,12,14,0,6,17,24,0,0,0,0,0,0,0,13,0,0], [0,5,23,16,4,0,13,24,7,2,0,9,0,0,15,3,0,22,0,0,0,0,0,0,8], [0,0,25,20,2,0,19,0,0,0,0,1,0,0,0,0,21,3,0,0,12,0,0,0,0], [16,12,0,5,0,11,21,0,23,0,0,15,0,0,0,0,19,9,0,0,0,0,0,25,10], [0,0,0,0,9,20,22,7,4,0,3,0,14,25,18,0,11,0,0,0,0,0,1,0,15], [24,0,6,0,22,8,0,25,14,0,10,11,0,9,0,20,1,16,0,7,0,23,0,0,13], [14,13,21,1,0,0,5,0,0,0,6,0,22,0,23,10,0,0,0,2,0,0,18,7,11]]\n",
        "\n",
        "# this is the solved version of the \"easy\" sudoku above.\n",
        "solved = [[8,4,1,2,7,9,6,3,5],[5,9,2,3,6,1,4,7,8],[3,7,6,4,8,5,9,1,2],[4,1,7,5,9,6,8,2,3],[2,5,9,8,3,4,1,6,7],[6,3,8,1,2,7,5,4,9],[7,6,4,9,5,3,2,8,1],[9,2,3,6,1,8,7,5,4],[1,8,5,7,4,2,3,9,6]]"
      ],
      "metadata": {
        "id": "tDl8IsxtVw96"
      },
      "execution_count": null,
      "outputs": []
    },
    {
      "cell_type": "markdown",
      "source": [
        "# Wave Function Collapse"
      ],
      "metadata": {
        "id": "_cb6ax0uVxr_"
      }
    },
    {
      "cell_type": "code",
      "source": [
        "class waveFunction():\n",
        "  def __init__(self, size = 9):\n",
        "    self.size = size\n",
        "    self.wave = self.construct_superpositions()\n",
        "  \n",
        "  ###\n",
        "  # Generates a stepwise numpy array - for dynamic functionality\n",
        "  ###\n",
        "  def stepwise_array(self):\n",
        "    arr = []\n",
        "    for x in range(self.size):\n",
        "      arr.append(x+1)\n",
        "    return np.array(arr)\n",
        "\n",
        "  ###\n",
        "  # Creates the initial 9x9 grid in a superposition of 9 eigenstates\n",
        "  ###\n",
        "  def construct_superpositions(self):\n",
        "    return np.array([[self.stepwise_array() for x in range(self.size)] for y in range(self.size)])\n",
        "\n",
        "  ###\n",
        "  # Clears the eigenstates of positions that were given at the start, \n",
        "  # then propogates the waves outwards from them.\n",
        "  ###\n",
        "  def initialise_eigenstates(self, wave, board):\n",
        "    for x in range(self.size):\n",
        "      for y in range(self.size):\n",
        "        val = board[x][y]\n",
        "        if val != 0:\n",
        "          wave[x][y] = np.zeros(self.size)\n",
        "          wave = self.propogate_wave(wave, x, y, val)\n",
        "    return wave\n",
        "\n",
        "  ###\n",
        "  # Propogates wave outwards, clearing any clashing eigenstates.\n",
        "  # (i.e. removes states from positions which would violate the rules of Sudoku)\n",
        "  ###\n",
        "  def propogate_wave(self, wave, start_x, start_y, start_z):\n",
        "    for x in range(self.size):      \n",
        "        wave[x][start_y][start_z-1] = 0   # since z refers to the numerical value, we need z-1 for the list location\n",
        "        wave[start_x][x][start_z-1] = 0   \n",
        "    rt = int(math.sqrt(self.size))\n",
        "    box_x = (start_x // rt) * rt      # find co-ordinates of lowest corner in the sub-grid\n",
        "    box_y = (start_y // rt) * rt  \n",
        "    for x_itt in range(rt):          # itterators for sub-grids\n",
        "      for y_itt in range(rt):\n",
        "        wave[box_x + x_itt][box_y+y_itt][start_z-1] = 0\n",
        "\n",
        "    ### Further propogation - check for exclusivity in rows, columns, and boxes.\n",
        "      # If we say that the initial propogation is 1st-degree propogation,\n",
        "      # this is 2nd-degree.\n",
        "      # This will slow down our system, but may allow it to solve harder problems\n",
        "      # with a higher degree of accuracy.\n",
        "      # We can, of course, go further than this, checking for naked pairs,\n",
        "    ### hidden sets, and X-wings, but we won't here.\n",
        "\n",
        "    for x in range(self.size):\n",
        "      indexes = np.zeros(self.size + 1)\n",
        "      vals = np.zeros(self.size + 1)      # this is 10 long instead of 9, so we don't have \n",
        "      for y in range(self.size):                # to have an extra if statement checking for 0s\n",
        "        for z in range(self.size):\n",
        "          vals[wave[x][y][z]] += 1\n",
        "          indexes[wave[x][y][z]] = y\n",
        "\n",
        "      for v in range(self.size):                # check through the vals\n",
        "        if vals[v+1] == 1:              # if it's 1, then we can make that 1 a given\n",
        "          wave[x][int(indexes[v+1])] = np.zeros(self.size)   # since we kept an index list, this becomes easier\n",
        "          wave[x][int(indexes[v+1])][v] = v+1                         \n",
        "                                                # we then repeat for the other caridnal\n",
        "    for y in range(self.size):                          # x and y itterations swapped\n",
        "      indexes = np.zeros(self.size + 1) \n",
        "      vals = np.zeros(self.size + 1)        \n",
        "      for x in range(self.size):                \n",
        "        for z in range(self.size):\n",
        "          vals[wave[x][y][z]] += 1\n",
        "          indexes[wave[x][y][z]] = x            # alter x insteaf of y\n",
        "      for v in range(self.size):                \n",
        "        if vals[v+1] == 1:              \n",
        "          wave[int(indexes[v+1])][y] = np.zeros(self.size)      # and switch co-ordinates\n",
        "          wave[int(indexes[v+1])][y][v] = v+1\n",
        "\n",
        "    for box_x in range(rt):    # for each sib-grid seperately\n",
        "      for box_y in range(rt):\n",
        "        x_indexes = np.zeros(self.size + 1)\n",
        "        y_indexes = np.zeros(self.size + 1)  \n",
        "        vals = np.zeros(self.size + 1) \n",
        "        for x in range(rt):\n",
        "          for y in range(rt):\n",
        "            for z in range(self.size):\n",
        "              vals[wave[(rt * box_x) + x][(rt * box_y) + y][z]] += 1\n",
        "              x_indexes[wave[(rt * box_x) + x][(rt * box_y) + y][z]] = (rt * box_x) + x  \n",
        "              y_indexes[wave[(rt * box_x) + x][(rt * box_y) + y][z]] = (rt * box_y) + y\n",
        "        for v in range(self.size):\n",
        "          if vals[v+1] == 1:\n",
        "            wave[int(x_indexes[v+1])][int(y_indexes[v+1])] = np.zeros(self.size) \n",
        "            wave[int(x_indexes[v+1])][int(y_indexes[v+1])][v] = v+1\n",
        "\n",
        "    return wave\n",
        "  \n",
        "  ###\n",
        "  # If there is a tile in the board that is unfilled, but has no eigenstates, the board is invalid.\n",
        "  # We can use this invalidity to check for vioaltions, disallowing invalid moves. \n",
        "  # (i.e. a number may be valid in a tile, but it would invalidate another. Ipso factor, invalid placement)\n",
        "  ###\n",
        "  def is_valid(self, wave, board):\n",
        "    for x in range(self.size):\n",
        "      for y in range(self.size):\n",
        "        if board[x][y] == 0 and wave[x][y].sum() == 0:\n",
        "          return False\n",
        "    return True\n",
        "\n",
        "  ###\n",
        "  # Gets the number of eigenstates in a given position.\n",
        "  # This acts as an inverse probability of a eigenstate belonging in a certain position.\n",
        "  # If a value of size + 1 is returned, then the position is empty.\n",
        "  # A position becomes empty when an eigenstate gets chosen, or through erroneous placement.\n",
        "  # We do this instead of returning 0 for an empty position, as we need to use a min() function later.\n",
        "  # If min of all tiles is size + 1, then all positions are empty. Ipso facto, sudoku complete.\n",
        "  ###\n",
        "  def num_eigenstates(self, eigenstates):\n",
        "    num = np.array(eigenstates != 0).sum()\n",
        "    if num == 0:\n",
        "      return self.size + 1\n",
        "    else:\n",
        "      return num\n",
        "\n",
        "  ###\n",
        "  # Here we observe the wave, doing the majority of our processing.\n",
        "  # We need to check for which wave has the least superpositions.\n",
        "  # If the given superposition has only one eigenstate, then we return it,\n",
        "  # along with a tag that says it is a given value, else we return one of the\n",
        "  # eigenstates at random, with a tag that says it was randomly picked.\n",
        "  ###\n",
        "  def observe(self, wave):                                      \n",
        "    mask = []             # the mask lists how many eigenstates each position contains\n",
        "    for x in range(self.size):\n",
        "      temp = []\n",
        "      for y in range(self.size):\n",
        "        temp.append(self.num_eigenstates(wave[x][y]))\n",
        "      mask.append(temp)\n",
        "\n",
        "    if np.array(mask).min() == self.size + 1:   # if the lowest number of eigenstates across the whole mask is size + 1,\n",
        "                                                # then we know there are no valid moves available (since size + 1 means\n",
        "                                                # the position is empty)\n",
        "      return -1, -1, -1, False                  # we return -1 as an erroneous marker to be identified, and an \n",
        "                                                # arbitrary tag since it won't be checked.\n",
        "\n",
        "    ind = np.array(mask).argmin()                   # find the index of the position with the least eigenstates\n",
        "    x, y = (ind // self.size), (ind % self.size)    # unflatten\n",
        "    temp = wave[x][y]                               # get the list of eigenstates for that position\n",
        "    temp2 = []      \n",
        "    for v in temp:                  # create a list of non-0 states\n",
        "      if v != 0:\n",
        "        temp2.append(v)\n",
        "    if len(temp2) == 1:             # if the list has a length of 1, it's a given value\n",
        "      return x, y, temp2[0], True\n",
        "    return x, y, random.choice(temp2), False    # else randomly pick.\n",
        "\n",
        "  ###\n",
        "  # Here we take a single step, finding an optimal move, and then checking it is \n",
        "  # valid after propogation to decide whether or not it is valid.\n",
        "  ###\n",
        "  def step(self, wave, board, verbose):\n",
        "    if verbose:\n",
        "      print(\"making observation\")\n",
        "    x, y, val, given = self.observe(wave) # make an observation of the system\n",
        "                                          # the observation returns co-ordinates of\n",
        "                                          # an optimal move, the value it should be, \n",
        "                                          # and whether or not it was a given.\n",
        "\n",
        "    if x == -1:                           # -1 is an erroneous marker to flag that                                    \n",
        "      return wave, board, True            # all positions in the wave are empty, so\n",
        "                                          # we can end processing\n",
        "    if verbose:\n",
        "      print(\"propogating wave\")\n",
        "    board[x][y] = val                                       # fill in the value\n",
        "    wave[x][y] = np.zeros(self.size)                        # empty the respective position in the wave\n",
        "    propogated_wave = self.propogate_wave(wave, x, y, val)  # create a seperate variable for the propogated\n",
        "                                                            # wave, lest it need to be reverted.\n",
        "    if self.is_valid(wave, board):\n",
        "      if verbose:\n",
        "        print(\"eigenstate accepted\")  \n",
        "      return propogated_wave, board, False    # if the move is valid, return the propogated wave\n",
        "                                              # and the new board state, as well as a flag to continue\n",
        "    else:\n",
        "      if given:                         # if the move is invalid, and a given, there was an error.\n",
        "        if verbose:                     # halt processing.\n",
        "          print(\"board state error\")        \n",
        "        return wave, board, True \n",
        "      if verbose:\n",
        "        print(\"invalid eigenstate being removed\")\n",
        "      wave[x][y][val-1] = 0             # if the move is invalid and not given, remove that eigenstate from the un-propogated wave\n",
        "      return wave, board, False         # then try again.\n",
        "\n",
        "  ###\n",
        "  # This function brings the system together to function full from one command.\n",
        "  # We take puzzle as an input, and return the final board state, as well as a\n",
        "  # boolean saying whetheter or not the puzzle is actually complete.\n",
        "  ###\n",
        "  def solve(self, puzzle, verbose = False):\n",
        "    if verbose:\n",
        "      print(\"constructing board\")\n",
        "    self.board = np.array(puzzle).reshape((self.size, self.size))   # fill the board\n",
        "    if verbose:\n",
        "      print(\"constructing wave function\")\n",
        "    self.wave = self.initialise_eigenstates(self.wave, self.board)  # initialise the wave function\n",
        "    solved = False\n",
        "    steps = 1\n",
        "    while not solved:\n",
        "      if verbose:\n",
        "        print(\"step no: \" + str(steps))\n",
        "      self.wave, self.board, solved = self.step(self.wave, self.board, verbose)\n",
        "      steps += 1\n",
        "    if verbose:\n",
        "      print(\"wave collapsed\")\n",
        "    if np.array(self.board == 0).sum() == 0:\n",
        "      return self.board, True\n",
        "    else:\n",
        "      return self.board, False"
      ],
      "metadata": {
        "id": "pnNskwyCV0h1"
      },
      "execution_count": null,
      "outputs": []
    },
    {
      "cell_type": "code",
      "source": [
        "size = 9\n",
        "wf = waveFunction(size)\n",
        "solution, solved = wf.solve(hard, False)\n",
        "print(solution)"
      ],
      "metadata": {
        "colab": {
          "base_uri": "https://localhost:8080/"
        },
        "id": "9W3gSFr81UbQ",
        "outputId": "ff8b89ae-6465-48c0-8318-e8b0c637796c"
      },
      "execution_count": null,
      "outputs": [
        {
          "output_type": "stream",
          "name": "stdout",
          "text": [
            "[[2 4 3 9 1 5 8 6 7]\n",
            " [8 6 5 4 2 7 1 9 3]\n",
            " [7 9 1 6 8 3 5 2 4]\n",
            " [5 8 6 1 3 2 7 4 9]\n",
            " [4 3 7 5 9 8 6 1 2]\n",
            " [9 1 2 7 6 4 3 5 8]\n",
            " [3 7 4 2 5 6 9 8 1]\n",
            " [1 5 8 3 4 9 2 7 6]\n",
            " [6 2 9 8 7 1 4 3 5]]\n"
          ]
        }
      ]
    },
    {
      "cell_type": "markdown",
      "source": [
        "# Accuracy Test\n",
        "\n",
        "This is the same accuracy test we are using on all the solvers we are making."
      ],
      "metadata": {
        "id": "DWdCmoZoCbNb"
      }
    },
    {
      "cell_type": "code",
      "source": [
        "import os\n",
        "from google.colab import drive\n",
        "drive.mount('/content/gdrive')\n",
        "import pandas as pd\n",
        "\n",
        "filepath = \"/content/gdrive/My Drive/ColabNotebooks/IP/sudoku.csv\"\n",
        "inp = pd.read_csv(filepath)\n",
        "test_puzzles = inp[\"quizzes\"]\n",
        "test_solutions = inp[\"solutions\"]"
      ],
      "metadata": {
        "colab": {
          "base_uri": "https://localhost:8080/"
        },
        "id": "oxa5B9YoCcnI",
        "outputId": "acf7141b-8e19-4b50-d699-1f204b7c9116"
      },
      "execution_count": null,
      "outputs": [
        {
          "output_type": "stream",
          "name": "stdout",
          "text": [
            "Mounted at /content/gdrive\n"
          ]
        }
      ]
    },
    {
      "cell_type": "code",
      "source": [
        "tests = []\n",
        "solutions = []\n",
        "for x in range(990000, 999999):\n",
        "  tests.append(np.array([int(t) for t in test_puzzles[x]]).reshape((9,9)))\n",
        "  solutions.append(np.array([int(t) for t in test_solutions[x]]).reshape((9,9)))"
      ],
      "metadata": {
        "id": "pXtNt64kDwcP"
      },
      "execution_count": null,
      "outputs": []
    },
    {
      "cell_type": "code",
      "source": [
        "with tf.device('/device:GPU:0'):\n",
        "  corr = 0\n",
        "\n",
        "  for x in range(len(tests)):\n",
        "    print(str(x) + \" / \" + str(len(tests)))\n",
        "    wf = waveFunction(9)\n",
        "    solution, solved = wf.solve(tests[x], False)\n",
        "    if solved:\n",
        "      corr += 1\n",
        "  print(\"Accuracy : \" + str(np.around((corr/len(tests) * 100),2)) + \"%\")\n",
        "\n",
        "# Accuracy : 99.86, meaning it got 14 of them wrong."
      ],
      "metadata": {
        "colab": {
          "base_uri": "https://localhost:8080/"
        },
        "id": "Oj6QoUVcE21Y",
        "outputId": "6c3da0b9-afb0-468e-96a3-e3ffd3bc893e"
      },
      "execution_count": null,
      "outputs": [
        {
          "output_type": "stream",
          "name": "stdout",
          "text": [
            "Accuracy : 99.86%\n"
          ]
        }
      ]
    }
  ]
}