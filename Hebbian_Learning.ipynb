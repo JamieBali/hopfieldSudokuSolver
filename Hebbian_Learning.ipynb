{
  "nbformat": 4,
  "nbformat_minor": 0,
  "metadata": {
    "colab": {
      "name": "Hebbian Learning",
      "provenance": [],
      "authorship_tag": "ABX9TyPmQJ+w7bE+v0fWHe19q+NY",
      "include_colab_link": true
    },
    "kernelspec": {
      "name": "python3",
      "display_name": "Python 3"
    },
    "language_info": {
      "name": "python"
    }
  },
  "cells": [
    {
      "cell_type": "markdown",
      "metadata": {
        "id": "view-in-github",
        "colab_type": "text"
      },
      "source": [
        "<a href=\"https://colab.research.google.com/github/JamieBali/hopfieldSudokuSolver/blob/main/Hebbian_Learning.ipynb\" target=\"_parent\"><img src=\"https://colab.research.google.com/assets/colab-badge.svg\" alt=\"Open In Colab\"/></a>"
      ]
    },
    {
      "cell_type": "markdown",
      "source": [
        "# Hebbian Learning\n",
        "\n",
        "Following \"The Effects of Hebbian Learning on Optimisation in Hopfield Networks\" (Watson, Buckley, and Mills), I intend to implement Hebbian Learning, and attempt to scale up the solution to solve Sudoku problems."
      ],
      "metadata": {
        "id": "_EraIOS2jyGV"
      }
    },
    {
      "cell_type": "code",
      "source": [
        "## imports\n",
        "import random\n",
        "import numpy as np\n",
        "import math\n",
        "import pandas"
      ],
      "metadata": {
        "id": "PUDGFH2Ej4o9"
      },
      "execution_count": 29,
      "outputs": []
    },
    {
      "cell_type": "markdown",
      "source": [
        "## Models\n",
        "\n",
        "The state of a Hopfield Network consisting of N discrete states $S_i$ where $i = 1,2,...,N$ can be written as $S = (s_i,...,s_N)$\n",
        "\n",
        "$S_i(t+1) = Θ[∑_j ω_iⱼ S_i(t)]$\n",
        "<br> Where ω are the elements of the connection matrix Ω, and Θ is the Heaviside threshold function.\n",
        "\n",
        "The Hopfield network is run by repeatedly choosing a unit, $i$, uniformly at random and setting its state according to the above formula. \n",
        "\n",
        "Energy = -∑ᵢⱼωᵢⱼsᵢsⱼ\n"
      ],
      "metadata": {
        "id": "dgXKxzg_-zUk"
      }
    },
    {
      "cell_type": "code",
      "source": [
        "##\n",
        "# The energy of a problem needs to be reduced. This function finds what the energy is at a given state.\n",
        "##\n",
        "def getEnergy(weights, neurones):\n",
        "  #Energy = -sum(w_ij x s_i x s_j)\n",
        "  sum = 0\n",
        "  for i in range(0,len(neurones)):\n",
        "    for j in range(0,len(neurones)):\n",
        "      sum += (weights[i][j] * neurones[i] * neurones[j])\n",
        "  energy = sum * -1\n",
        "  return energy\n",
        "\n",
        "##\n",
        "# The heaviside function is an activation function that returns +1 for values >= 0, and -1 for values less than 0\n",
        "##\n",
        "def heaviside(value):\n",
        "  if value < 0:\n",
        "    return -1\n",
        "  else:\n",
        "    return 1\n",
        "\n",
        "##\n",
        "# The step function takes an index (i) for a given neurone to look at. This will be picked randomly.\n",
        "##\n",
        "def step(neurones, weights, i):\n",
        "  # S_i (t+1) = Θ[sum(ω_ij * S_i (t)]\n",
        "\n",
        "  #sum = 0\n",
        "  #for j in range(0,len(neurones)):\n",
        "  #  sum += neurones[j] * weights[i][j]\n",
        "\n",
        "  neuroneCopy = np.copy(neurones)\n",
        "  #neuroneCopy[i] = heaviside(sum)\n",
        "  neuroneCopy[i] = neuroneCopy[i] * -1\n",
        "  \n",
        "  if getBoltzmanProbability(neurones, neuroneCopy) == 1:\n",
        "    return neuroneCopy\n",
        "  else:\n",
        "    return neurones"
      ],
      "metadata": {
        "id": "6ztlSUtB-y7-"
      },
      "execution_count": 56,
      "outputs": []
    },
    {
      "cell_type": "markdown",
      "source": [
        "## Boltzman Machine\n",
        "\n",
        "The boltzman machine is a schocastic counterpart of the Hopfield network where a single state change is accepted probabilistically according to the change in energy it produces.\n",
        "\n",
        "We can describe such a dynamical process more generally via a probability of accepting a stochatsic change to the system state:\n",
        "\n",
        "$P[S(t+1) <- f(S(t))] = Θ'(ΔE)$ "
      ],
      "metadata": {
        "id": "En5Ko5T4cE7E"
      }
    },
    {
      "cell_type": "code",
      "execution_count": 59,
      "metadata": {
        "id": "P5bnFF3JcoOs"
      },
      "outputs": [],
      "source": [
        "def getBoltzmanProbability(nt, ntplus, size = 9): # refering to weights at t+1, neurones at t+1, weights at t, and neurones at t respectively\n",
        "  # t+1 - t = ΔE\n",
        "  t1 = sudokuEnergy(ntplus, size)\n",
        "  t = sudokuEnergy(nt, size)\n",
        "  Delta = t1 - t  \n",
        "\n",
        "  # below is a threshold function that takes values of 0 and 1 for negative and non-negative arguments respectively.\n",
        "  return int(Delta <= 0)\n"
      ]
    },
    {
      "cell_type": "markdown",
      "source": [
        "# Random Restart\n",
        "\n",
        "A random restart model is an option for avoiding the trap of a local optima, so the model can be programmed to periodically take a random state configuration, $R=\\{-1|1\\}ᴺ$, every τ steps."
      ],
      "metadata": {
        "id": "0CCzcZ00ikz3"
      }
    },
    {
      "cell_type": "code",
      "source": [
        "def randomRestart(length):\n",
        "  return random.choices([-1,1], k=length)"
      ],
      "metadata": {
        "id": "QZ5B4fkQjT5V"
      },
      "execution_count": 5,
      "outputs": []
    },
    {
      "cell_type": "markdown",
      "source": [
        "# Hebbian Learning\n",
        "\n",
        "By combining the functions written previously with a Hebbian Learning mechanism, we can update the weights of the network as we tend towards a solution. We want to update the weights with this system before we perform the random restart function, but only at the end of relaxation."
      ],
      "metadata": {
        "id": "yRoStfdGkeUN"
      }
    },
    {
      "cell_type": "code",
      "source": [
        "def updateWeights(weights, neurones, delta): # where this delta value is a learning rate.\n",
        "  # ω_ij(τ+1) = ω_ij(τ) + (δ/τ)(s_i(t) * s_j(t))\n",
        "  updatedWeights = []\n",
        "  for i in range(0, len(neurones)):\n",
        "    temp = []\n",
        "    for j in range(0, len(neurones)):\n",
        "      if i == j:\n",
        "        temp.append(1)\n",
        "      else:\n",
        "        temp.append(heaviside(weights[i][j] + (delta * neurones[i] * neurones[j])))\n",
        "    updatedWeights.append(temp)\n",
        "  return updatedWeights"
      ],
      "metadata": {
        "id": "qNowB5Drklcu"
      },
      "execution_count": 6,
      "outputs": []
    },
    {
      "cell_type": "markdown",
      "source": [
        "\"In principle, the original behaviour of the system need not be governed by a weight matrix, but by some arbitrary energy function, $e(S)$, which is just some function of the state.\" (Watson, Buckley, and Mills)"
      ],
      "metadata": {
        "id": "tXhypznGrFA1"
      }
    },
    {
      "cell_type": "code",
      "source": [
        "def getLocation(row, column, number, size):\n",
        "  return int((column * (size ** 2)) + (row * size) + number)\n",
        "  \n",
        "\n",
        "##\n",
        "# This arbitrary energy function seeks to minimize the weight of a Sudoku problem. If the problem is perfectly solved, the energy should be 0.\n",
        "# The energy will then be affected by the learned weights matrix.\n",
        "##\n",
        "def sudokuEnergy(neurones, size = 9):\n",
        "  # For a completed \n",
        "  energy = 4*(size**2)\n",
        "\n",
        "  # sum across i for all j,k (each number appears in each row once and only once)\n",
        "  for column in range(0,size):\n",
        "    for number in range(0,size):\n",
        "      count = 0\n",
        "      for row in range(0,size):\n",
        "        if neurones[getLocation(row, column, number, size)] == 1:\n",
        "          count += 1\n",
        "      if count == 1:\n",
        "        energy -= 1\n",
        "      if count > 1:\n",
        "        energy += 50 # a rule violation should lead to a massive increase in energy so it isn't picked\n",
        "\n",
        "  # sum across j for all i,k (each number appears in each column once and only once)\n",
        "  for row in range(0,size):\n",
        "    for number in range(0,size):\n",
        "      count = 0\n",
        "      for column in range(0,size):\n",
        "        if neurones[getLocation(row, column, number, size)] == 1:\n",
        "          count += 1\n",
        "      if count == 1:\n",
        "        energy -= 1\n",
        "      if count > 1:\n",
        "        energy += 50\n",
        "\n",
        "  # sum across k for all i,j (each tile contains only one number)\n",
        "  for row in range(0,size):\n",
        "    for cloumn in range(0,size):\n",
        "      count = 0\n",
        "      for number in range(0,size):\n",
        "        if neurones[getLocation(row, column, number, size)] == 1:\n",
        "          count += 1\n",
        "      if count == 1:\n",
        "        energy -= 1\n",
        "      if count > 1:\n",
        "        energy += 50\n",
        "\n",
        "  # sum across i,j,k for each sub-grid on the board (each number appears in each sub-grid once and only once)\n",
        "  temp = int(math.sqrt(size))\n",
        "  for rowitt in range(0,temp):               # these row and cloumn itterators allows each individual sub-grid to be searched, and allows for easy grid size change\n",
        "    for columnitt in range(0,temp):\n",
        "      for row in range(0,temp):\n",
        "        for column in range(0,temp):\n",
        "          sum = 0\n",
        "          for number in range(0, size):\n",
        "            if neurones[getLocation((rowitt * temp) + row, (columnitt * temp) + column, number, size)] == 1:\n",
        "              sum += 1\n",
        "          if sum == 1:\n",
        "            energy -= 1\n",
        "          if sum > 1:\n",
        "            energy += 50\n",
        "\n",
        "  return energy\n",
        "  "
      ],
      "metadata": {
        "id": "tt2nPNJNrQpb"
      },
      "execution_count": 62,
      "outputs": []
    },
    {
      "cell_type": "markdown",
      "source": [
        "# Network Creation"
      ],
      "metadata": {
        "id": "DHNnARRcBiOq"
      }
    },
    {
      "cell_type": "code",
      "source": [
        "# this puzzle was taken from the paper i am following. (V. Mladenov et al.)\n",
        "paper = [[0,0,0,9,5,7,0,0,0],[7,6,0,0,0,0,0,1,0],[8,0,5,0,0,6,0,2,0],[3,0,9,0,4,0,0,0,0],[0,0,8,0,0,0,1,0,0],[0,0,0,0,2,0,5,0,6],[0,8,0,1,0,0,6,0,4],[0,3,0,0,0,0,0,7,1],[0,0,0,4,3,2,0,0,0]]\n",
        "\n",
        "# these three were taken randomly from sudoku.com\n",
        "easy = [[0,0,0,0,7,9,0,3,0],[5,0,2,0,6,1,4,7,8],[3,7,6,0,8,5,9,0,2],[0,1,7,5,0,0,8,0,0],[2,0,9,8,3,0,0,0,0],[0,0,0,0,2,0,0,4,0],[0,0,0,0,5,0,2,0,1],[0,2,3,0,0,0,0,5,4],[1,0,0,7,0,0,0,0,0]]\n",
        "medium = [[0,3,1,0,5,0,0,2,0],[0,0,0,0,0,2,9,0,5],[2,0,0,0,1,0,0,0,0],[3,5,0,0,9,0,0,7,0],[7,0,0,5,0,0,0,4,0],[0,1,0,7,0,3,2,0,0],[1,2,6,3,0,0,0,0,0],[0,9,0,8,0,5,0,0,0],[5,0,0,0,2,0,7,0,0]]\n",
        "hard = [[0,4,0,0,0,5,0,6,0],[0,0,5,4,2,0,0,0,0],[0,0,1,6,0,3,5,0,4],[0,0,0,0,0,0,7,0,0],[0,3,7,0,0,0,0,1,0],[9,0,0,0,0,4,3,5,0],[0,0,4,2,5,0,0,0,0],[0,0,0,0,0,0,0,7,6],[6,0,9,0,7,0,0,0,5]]\n",
        "\n",
        "# this puzzle is taken from \"expert star sudoku,\" a book of level 6 sudoku.\n",
        "expert = [[0,0,0,0,1,0,0,0,0],[0,9,0,0,0,5,0,0,0],[5,0,0,0,7,6,0,0,0],[0,0,4,0,0,0,2,7,0],[0,2,0,0,0,0,5,0,9],[0,7,0,8,0,0,0,0,0],[0,0,1,0,0,3,0,0,0],[6,0,0,1,2,0,0,8,0],[7,8,0,0,0,0,9,0,0]]\n",
        "\n",
        "\n",
        "solved = [[2,1,6,3,7,8,4,5,9],[8,5,4,2,9,1,6,3,7],[9,7,3,4,5,6,8,1,2],[7,8,1,5,6,2,3,9,4],[5,3,2,9,4,7,1,8,6],[4,6,9,1,8,3,2,7,5],[6,2,8,7,3,5,9,4,1],[1,4,5,8,2,9,7,6,3],[3,9,7,6,1,4,5,2,8]]\n"
      ],
      "metadata": {
        "id": "IeZM8rRk5q1k"
      },
      "execution_count": 8,
      "outputs": []
    },
    {
      "cell_type": "code",
      "source": [
        "def networkFormat(puzzle, size):\n",
        "  neurones = []\n",
        "  for row in range(0,size):\n",
        "    for column in range(0, size):\n",
        "      temp = [-1,-1,-1,-1,-1,-1,-1,-1,-1]\n",
        "      num = puzzle[row][column]\n",
        "      if num > 0:\n",
        "        temp[num-1] = 1\n",
        "      for x in temp:\n",
        "        neurones.append(x)\n",
        "  return neurones\n",
        "\n",
        "def readableFormat(neurones, size):\n",
        "  puzzle = []\n",
        "  temp = []\n",
        "  for x in range(0,size**2):\n",
        "    tile = neurones[x*size:((x+1)*size)]\n",
        "    found = False\n",
        "    for y in range(0,size):\n",
        "      if tile[y] == 1:\n",
        "        temp.append(y + 1)\n",
        "        found = True\n",
        "        break\n",
        "    if found == False:\n",
        "      temp.append(0)\n",
        "    if (x + 1) % 9 == 0:\n",
        "      puzzle.append(temp)\n",
        "      temp = []\n",
        "  return puzzle"
      ],
      "metadata": {
        "id": "YqyQY8kKB0ek"
      },
      "execution_count": 17,
      "outputs": []
    },
    {
      "cell_type": "markdown",
      "source": [
        "# Theta Values\n",
        "\n",
        "We can use theta as a value to represent given values at the start of the puzzle. We don't want these theta values to be changed, as they act as the constraints of the puzzle. We have 2 options for theta values - we can either update the neurones to factor in the theta values after any changes, or at the end of a relaxation period, or we can put in a prevention measure to stop the theta values from being changed in the first place. We will implement the latter solution."
      ],
      "metadata": {
        "id": "YwQddcYeMR8U"
      }
    },
    {
      "cell_type": "code",
      "source": [
        "def getThetaValues(neurones):\n",
        "  theta = []\n",
        "  for num, value in enumerate(neurones):\n",
        "    if value == 1:\n",
        "      theta.append(num)\n",
        "  return theta"
      ],
      "metadata": {
        "id": "2KoY9KSYMRmt"
      },
      "execution_count": 46,
      "outputs": []
    },
    {
      "cell_type": "markdown",
      "source": [
        "# Testing"
      ],
      "metadata": {
        "id": "aHY04Kk2Jweg"
      }
    },
    {
      "cell_type": "code",
      "source": [
        "def createWeights(neurones, size = 9):\n",
        "  weights = []\n",
        "  for x in range(0,len(neurones)):\n",
        "    temp = np.zeros(len(neurones))\n",
        "\n",
        "    # rule 1, each tile may only contain one number\n",
        "    # this is performed dynamically across each level of the weights matrix\n",
        "    holder = math.floor(x/size)           # to find which tile of the grid we're on\n",
        "    for y in range(0,size):               # for each neurone representing a possible number on that tile\n",
        "      temp[(holder*size) + y] = -1        # we inhibit response from the respective neurone\n",
        "    \n",
        "    # rule 2, each row may only contain each number once\n",
        "    # this, too, is performed dynamically so we can vary the size of the grid later\n",
        "    holder = math.floor(x/(size**2))            # to find which row we're on\n",
        "    holder = (holder * (size**2)) + (x % size)  # modulus of x by size tells us which number we're looking for.\n",
        "    for y in range(0,size):                   # for each tile in that row\n",
        "      temp[holder+(size*y)] = -1                # inhibit the response from the respective neurones\n",
        "\n",
        "    # rule 3, each column may only contain each number once\n",
        "    # the process for this rule is easier\n",
        "    holder = x % (size**2)          # find the value on row 0 for the respective number\n",
        "    for y in range(0,size):       # for each row\n",
        "      temp[holder+((size**2)*y)] = -1    # inhibit the respective number in that column\n",
        "\n",
        "    #rule 4, each sub-grid may only contain each number once\n",
        "    # this is the most complex one\n",
        "    s = math.sqrt(size)\n",
        "    c = math.floor(x/(s**3))%s         # this gives the neuron a column index from 0 to size-1\n",
        "    r = size * (math.floor(x/(s**5)))  # this gives the neuron a row index from 0 to 2(size)\n",
        "    ind = (s**3)*(c+r)                 # this gives is the index of the neuron in the top-left corner of that sub-grid\n",
        "    holder = int(ind + (x%size))            # lastly we get the holder of the top-left index with the depth of the number\n",
        "    for y in range(0,int(s)):\n",
        "      temp[holder + (y*size)] = -1\n",
        "      for z in range(1,int(s)):\n",
        "        temp[holder + (y*size) + (z*(size**2))] = -1\n",
        "\n",
        "    for y in range(0, len(temp)):\n",
        "      if temp[y] == 0:\n",
        "        temp[y] = 1\n",
        "\n",
        "    temp[x] = 1\n",
        "    weights.append(temp)\n",
        "\n",
        "  return weights"
      ],
      "metadata": {
        "id": "e5ti6YpdK5Ih"
      },
      "execution_count": 10,
      "outputs": []
    },
    {
      "cell_type": "code",
      "source": [
        "def runNetwork(puzzle, size, relaxation, epochs, verbose = False):\n",
        "  neurones = networkFormat(puzzle, size)\n",
        "  weights = createWeights(neurones, size)\n",
        "  theta = getThetaValues(neurones)\n",
        "\n",
        "  for epoch in range(0, epochs):\n",
        "    for x in range(0,relaxation):\n",
        "      i = random.randint(0,len(neurones)-1)\n",
        "      if i in theta:          # this prevents any changes happening to the theta values in the network, ensuring the initial values are not modulated\n",
        "        continue\n",
        "      neurones = step(neurones, weights, i)\n",
        "      if verbose and x % 50 == 0:\n",
        "        print(readableFormat(neurones, 9))\n",
        "        print(sudokuEnergy(neurones, 9))  \n",
        "  return neurones"
      ],
      "metadata": {
        "id": "_hdEQondJwLp"
      },
      "execution_count": 53,
      "outputs": []
    },
    {
      "cell_type": "code",
      "source": [
        "print(easy)\n",
        "n = runNetwork(easy, 9, 1000, 1, False)\n",
        "print(readableFormat(n, 9))"
      ],
      "metadata": {
        "colab": {
          "base_uri": "https://localhost:8080/"
        },
        "id": "xw1R5f8zO_x0",
        "outputId": "8b490986-5f0c-4bd8-c1ee-26a92c25dacd"
      },
      "execution_count": 63,
      "outputs": [
        {
          "output_type": "stream",
          "name": "stdout",
          "text": [
            "[[0, 0, 0, 0, 7, 9, 0, 3, 0], [5, 0, 2, 0, 6, 1, 4, 7, 8], [3, 7, 6, 0, 8, 5, 9, 0, 2], [0, 1, 7, 5, 0, 0, 8, 0, 0], [2, 0, 9, 8, 3, 0, 0, 0, 0], [0, 0, 0, 0, 2, 0, 0, 4, 0], [0, 0, 0, 0, 5, 0, 2, 0, 1], [0, 2, 3, 0, 0, 0, 0, 5, 4], [1, 0, 0, 7, 0, 0, 0, 0, 0]]\n",
            "[[4, 6, 8, 1, 7, 9, 5, 3, 0], [5, 0, 2, 9, 6, 1, 4, 7, 8], [3, 7, 6, 0, 8, 5, 9, 1, 2], [0, 1, 7, 5, 4, 3, 8, 2, 6], [2, 0, 9, 8, 3, 4, 0, 6, 5], [9, 0, 5, 3, 2, 0, 1, 4, 7], [8, 3, 0, 4, 5, 7, 2, 0, 1], [0, 2, 3, 6, 1, 8, 7, 5, 4], [1, 8, 4, 7, 0, 6, 3, 9, 0]]\n"
          ]
        }
      ]
    },
    {
      "cell_type": "code",
      "source": [
        "_pandasIndex = []\n",
        "for x in range(0,1000):\n",
        "    if x % 50 == 0:\n",
        "      _pandasIndex.append(x)\n",
        "\n",
        "df = pandas.DataFrame(_pandasData, _pandasIndex)\n",
        "df.plot(legend = None)"
      ],
      "metadata": {
        "colab": {
          "base_uri": "https://localhost:8080/",
          "height": 282
        },
        "id": "4jAuPweaDTSW",
        "outputId": "9d7b59e6-cd64-4eb4-dc33-e1b85e9a185d"
      },
      "execution_count": 45,
      "outputs": [
        {
          "output_type": "execute_result",
          "data": {
            "text/plain": [
              "<matplotlib.axes._subplots.AxesSubplot at 0x7ff91f563210>"
            ]
          },
          "metadata": {},
          "execution_count": 45
        },
        {
          "output_type": "display_data",
          "data": {
            "text/plain": [
              "<Figure size 432x288 with 1 Axes>"
            ],
            "image/png": "[encoded data removed]"
          },
          "metadata": {
            "needs_background": "light"
          }
        }
      ]
    },
    {
      "cell_type": "code",
      "source": [
        "\n",
        "solution = [[0, 0, 8, 1, 7, 9, 5, 3, 6], [5, 9, 2, 3, 6, 1, 4, 7, 8], [3, 7, 6, 4, 8, 5, 9, 1, 2], [6, 1, 7, 5, 4, 0, 8, 9, 3], [2, 5, 9, 8, 3, 4, 0, 6, 7], [7, 8, 0, 9, 2, 6, 1, 4, 5], [4, 3, 0, 6, 5, 7, 2, 8, 1], [9, 2, 3, 0, 1, 8, 7, 5, 4], [1, 4, 5, 7, 9, 2, 6, 3, 9]]\n",
        "sudokuEnergy(networkFormat(solution, 9), 9)"
      ],
      "metadata": {
        "colab": {
          "base_uri": "https://localhost:8080/"
        },
        "id": "7DcQOgvvfDf8",
        "outputId": "0cf0e22b-eba2-40c8-b271-db86a3e28b9f"
      },
      "execution_count": 61,
      "outputs": [
        {
          "output_type": "execute_result",
          "data": {
            "text/plain": [
              "35"
            ]
          },
          "metadata": {},
          "execution_count": 61
        }
      ]
    }
  ]
}